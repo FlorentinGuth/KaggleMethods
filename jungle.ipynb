{
 "cells": [
  {
   "cell_type": "code",
   "execution_count": null,
   "metadata": {},
   "outputs": [],
   "source": [
    "%load_ext autoreload\n",
    "%autoreload\n",
    "\n",
    "from src.utils import *\n",
    "from src.kgrams import *\n",
    "from src.levenshtein import *\n",
    "from sklearn import svm\n",
    "import time\n",
    "from tqdm import tqdm_notebook\n",
    "import os"
   ]
  },
  {
   "cell_type": "markdown",
   "metadata": {},
   "source": [
    "## Baseline using Spectrum kernel"
   ]
  },
  {
   "cell_type": "code",
   "execution_count": null,
   "metadata": {},
   "outputs": [],
   "source": [
    "%time cum_spectrum_31_kernels = precomputed_kernels(cum_spectrum, 'cum_spectrum_31', k=31)"
   ]
  },
  {
   "cell_type": "code",
   "execution_count": null,
   "metadata": {},
   "outputs": [],
   "source": [
    "%time svm_kernels(cum_spectrum_31_kernels, 'cum_spectrum_31')"
   ]
  },
  {
   "cell_type": "markdown",
   "metadata": {},
   "source": [
    "The computations are slowed down over $k=13$."
   ]
  },
  {
   "cell_type": "markdown",
   "metadata": {},
   "source": [
    "# Levenshtein Kernel"
   ]
  },
  {
   "cell_type": "markdown",
   "metadata": {},
   "source": [
    "### Kernel Computing"
   ]
  },
  {
   "cell_type": "code",
   "execution_count": null,
   "metadata": {},
   "outputs": [],
   "source": [
    "%time levenshtein_distances = precomputed_kernels(levenshtein_distance, 'levenshtein_distance', numeric=False)"
   ]
  },
  {
   "cell_type": "code",
   "execution_count": null,
   "metadata": {},
   "outputs": [],
   "source": [
    "def distance_to_kernel(i, d, α):\n",
    "    return 1 / (1 + d ** α)\n",
    "\n",
    "levenshtein_kernels = transform_kernels([levenshtein_distances], distance_to_kernel, α=.25)"
   ]
  },
  {
   "cell_type": "code",
   "execution_count": null,
   "metadata": {},
   "outputs": [],
   "source": [
    "svm_kernels(levenshtein_kernels, 'levenshtein')"
   ]
  },
  {
   "cell_type": "code",
   "execution_count": null,
   "metadata": {},
   "outputs": [],
   "source": [
    "αs = [.7, .7, .7]\n",
    "svm_kernels(transform_kernels(\n",
    "    [levenshtein_kernels, cum_spectrum_31_kernels], \n",
    "    lambda i, x, y: (1-αs[i]) * x + αs[i] * y), 'mixed_sum')"
   ]
  },
  {
   "cell_type": "code",
   "execution_count": null,
   "metadata": {},
   "outputs": [],
   "source": [
    "svm_kernels(transform_kernels(\n",
    "    [levenshtein_kernels, cum_spectrum_31_kernels], \n",
    "    lambda _, x, y: (1 + .5 * x) * y), 'mixed_product')"
   ]
  }
 ],
 "metadata": {
  "kernelspec": {
   "display_name": "Python 3",
   "language": "python",
   "name": "python3"
  },
  "language_info": {
   "codemirror_mode": {
    "name": "ipython",
    "version": 3
   },
   "file_extension": ".py",
   "mimetype": "text/x-python",
   "name": "python",
   "nbconvert_exporter": "python",
   "pygments_lexer": "ipython3",
   "version": "3.6.7"
  }
 },
 "nbformat": 4,
 "nbformat_minor": 2
}
