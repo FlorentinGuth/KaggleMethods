{
 "cells": [
  {
   "cell_type": "code",
   "execution_count": null,
   "metadata": {},
   "outputs": [],
   "source": [
    "%load_ext autoreload\n",
    "%autoreload\n",
    "\n",
    "import sys\n",
    "sys.path.append('src')\n",
    "\n",
    "from utils import *\n",
    "import time\n",
    "from tqdm import tqdm_notebook\n",
    "import os"
   ]
  },
  {
   "cell_type": "markdown",
   "metadata": {},
   "source": [
    "## Baseline using Spectrum kernel"
   ]
  },
  {
   "cell_type": "code",
   "execution_count": null,
   "metadata": {},
   "outputs": [],
   "source": [
    "from spectrum import *\n",
    "%time cum_spectrum_31_kernels = precomputed_kernels(cum_spectrum, 'cum_spectrum_31', k=31)"
   ]
  },
  {
   "cell_type": "code",
   "execution_count": null,
   "metadata": {},
   "outputs": [],
   "source": [
    "%time svm_kernels(cum_spectrum_31_kernels, 'cum_spectrum_31')"
   ]
  },
  {
   "cell_type": "markdown",
   "metadata": {},
   "source": [
    "The computations are slowed down over $k=13$."
   ]
  },
  {
   "cell_type": "code",
   "execution_count": null,
   "metadata": {},
   "outputs": [],
   "source": [
    "spectrum_kernels = []\n",
    "for k in range(1, 14):\n",
    "    spectrum_kernels.append(precomputed_kernels(k_spectrum, 'spectrum_{}'.format(k), k=k))"
   ]
  },
  {
   "cell_type": "code",
   "execution_count": null,
   "metadata": {},
   "outputs": [],
   "source": [
    "spectrum_K = np.stack([kernels[0][0] for kernels in spectrum_kernels]).astype(float)\n",
    "del spectrum_kernels"
   ]
  },
  {
   "cell_type": "code",
   "execution_count": null,
   "metadata": {
    "scrolled": true
   },
   "outputs": [],
   "source": [
    "from newton import fit\n",
    "import autograd as ag\n",
    "\n",
    "def spectrum_sum(θ, I, J):\n",
    "    K = ag.tensor(spectrum_K[:, I][:, :, I])\n",
    "    return (K * ag.exp(θ)[:, None, None]).sum(axis=0)\n",
    "\n",
    "n = 100\n",
    "θ, λ, stats = fit(\n",
    "    spectrum_sum, \n",
    "    train_Ys[0].astype(float)[:n], \n",
    "    k_folds_indices(n, 2), \n",
    "    ag.ones(spectrum_K.shape[0]),\n",
    "    iters=5,\n",
    ")"
   ]
  },
  {
   "cell_type": "markdown",
   "metadata": {},
   "source": [
    "# Levenshtein Kernel"
   ]
  },
  {
   "cell_type": "markdown",
   "metadata": {},
   "source": [
    "### Kernel Computing"
   ]
  },
  {
   "cell_type": "code",
   "execution_count": null,
   "metadata": {},
   "outputs": [],
   "source": [
    "from levenshtein import *\n",
    "%time levenshtein_distances = precomputed_kernels(levenshtein_distance, 'levenshtein_distance', numeric=False)"
   ]
  },
  {
   "cell_type": "code",
   "execution_count": null,
   "metadata": {},
   "outputs": [],
   "source": [
    "def distance_to_kernel(i, d, α):\n",
    "    return 1 / (1 + d ** α)\n",
    "\n",
    "levenshtein_kernels = transform_kernels([levenshtein_distances], distance_to_kernel, α=.25)"
   ]
  },
  {
   "cell_type": "code",
   "execution_count": null,
   "metadata": {},
   "outputs": [],
   "source": [
    "svm_kernels(levenshtein_kernels, 'levenshtein')"
   ]
  },
  {
   "cell_type": "code",
   "execution_count": null,
   "metadata": {},
   "outputs": [],
   "source": [
    "αs = [.7, .7, .7]\n",
    "svm_kernels(transform_kernels(\n",
    "    [levenshtein_kernels, cum_spectrum_31_kernels], \n",
    "    lambda i, x, y: (1-αs[i]) * x + αs[i] * y), 'mixed_sum')"
   ]
  },
  {
   "cell_type": "code",
   "execution_count": null,
   "metadata": {},
   "outputs": [],
   "source": [
    "svm_kernels(transform_kernels(\n",
    "    [levenshtein_kernels, cum_spectrum_31_kernels], \n",
    "    lambda _, x, y: (1 + .5 * x) * y), 'mixed_product')"
   ]
  }
 ],
 "metadata": {
  "kernelspec": {
   "display_name": "Python 3",
   "language": "python",
   "name": "python3"
  },
  "language_info": {
   "codemirror_mode": {
    "name": "ipython",
    "version": 3
   },
   "file_extension": ".py",
   "mimetype": "text/x-python",
   "name": "python",
   "nbconvert_exporter": "python",
   "pygments_lexer": "ipython3",
   "version": "3.7.2"
  }
 },
 "nbformat": 4,
 "nbformat_minor": 2
}
