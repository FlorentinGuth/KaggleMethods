{
 "cells": [
  {
   "cell_type": "code",
   "execution_count": 1,
   "metadata": {},
   "outputs": [],
   "source": [
    "import numpy as np\n",
    "import sklearn as sk\n",
    "import matplotlib.pyplot as plt"
   ]
  },
  {
   "cell_type": "code",
   "execution_count": 25,
   "metadata": {},
   "outputs": [
    {
     "name": "stdout",
     "output_type": "stream",
     "text": [
      "['GGAGAATCATTTGAACCCGGGAGGTGGAGGTTGCCGTGAGCTGAGATTGCGCCATTGCACTCCAGCCTGGGCAACAAGAGCAAAACTCTGTCTCACAAAAC'\n",
      " 'ACCCTGCCTACACCGCGGCGGGGACAGGTGGAGGTTTCAACCCCTGTTTGGCAACCTCGGGCGCAGCCAGGCCCCGCCCAGAAATTTCCGGGACACGCCCC'\n",
      " 'TGCAAATCTGTAAGCATTTCTCAGGCAATGAATTATGTCAACACAATTGCACCATCATTGATGGACTTGGAAATGCAGACAGAACTGAAGAGGAGCGTCTC'\n",
      " ...\n",
      " 'TGGCCGGCCCGGCGCCGTCACCGCCCTCAAAAGACATGGCGGCGCCTTGCGTCACGTCCGCGCAGTTGCCCCGCCTCCTCTCCGCACACTCCGCCTCCCTT'\n",
      " 'GCTTCATCATCACAGTGCAGCAGCTGACTACTTGCTAACTAACGTGTTATGCCATTGATAACCAGGAACTTCCTGACTGACGTTGAACGGGAAAAGGATGG'\n",
      " 'GCAGAATGAAGCTCTTGTTGCTTTGGCATTAATAGCAGCTTTAGAATTGGGTAAGTACCCCAGTGACAAACTTATTTTCTTCTATTTTTATCTTGGATGAA']\n",
      "[False  True  True ...  True  True False]\n",
      "[[0.01086957 0.01086957 0.02173913 ... 0.01086957 0.01086957 0.        ]\n",
      " [0.01086957 0.02173913 0.         ... 0.02173913 0.01086957 0.02173913]\n",
      " [0.         0.02173913 0.         ... 0.02173913 0.01086957 0.01086957]\n",
      " ...\n",
      " [0.01086957 0.02173913 0.01086957 ... 0.01086957 0.         0.        ]\n",
      " [0.         0.01086957 0.01086957 ... 0.01086957 0.01086957 0.02173913]\n",
      " [0.01086957 0.         0.01086957 ... 0.01086957 0.01086957 0.0326087 ]]\n"
     ]
    }
   ],
   "source": [
    "def load(X=True, k=0, train=True, embed=False):\n",
    "    return np.loadtxt('data/{}{}{}{}.csv'.format(\n",
    "        'X' if X else 'Y', 'tr' if train else 'te', k, '_mat100' if embed else ''),\n",
    "                      dtype=(float if embed else (str if X else bool)),\n",
    "                      skiprows=1,\n",
    "                      usecols=(None if embed else 1),\n",
    "                      delimiter=(' ' if embed else ',')\n",
    "                     )\n",
    "X = load()\n",
    "Y = load(X=False)\n",
    "Z = load(embed=True)\n",
    "print(X, Y, Z, sep='\\n')"
   ]
  },
  {
   "cell_type": "code",
   "execution_count": 26,
   "metadata": {},
   "outputs": [
    {
     "name": "stdout",
     "output_type": "stream",
     "text": [
      "101 101\n"
     ]
    }
   ],
   "source": [
    "L = np.array([len(x) for x in X])\n",
    "print(L.min(), L.max())"
   ]
  }
 ],
 "metadata": {
  "kernelspec": {
   "display_name": "Python 3",
   "language": "python",
   "name": "python3"
  },
  "language_info": {
   "codemirror_mode": {
    "name": "ipython",
    "version": 3
   },
   "file_extension": ".py",
   "mimetype": "text/x-python",
   "name": "python",
   "nbconvert_exporter": "python",
   "pygments_lexer": "ipython3",
   "version": "3.6.7"
  }
 },
 "nbformat": 4,
 "nbformat_minor": 2
}
