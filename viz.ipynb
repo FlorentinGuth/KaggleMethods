{
 "cells": [
  {
   "cell_type": "code",
   "execution_count": null,
   "metadata": {},
   "outputs": [],
   "source": [
    "import numpy as np\n",
    "import matplotlib.pyplot as plt\n",
    "from tqdm import tqdm_notebook\n",
    "from src.utils import *\n",
    "from src.spectrum import *\n",
    "from sklearn import svm"
   ]
  },
  {
   "cell_type": "code",
   "execution_count": null,
   "metadata": {},
   "outputs": [],
   "source": [
    "train_Xs = [load(k=k) for k in range(3)]\n",
    "train_Ys = [load(X=False, k=k) for k in range(3)]\n",
    "test_Xs = [load(k=k, train=False) for k in range(3)]\n",
    "X = train_Xs[0]\n",
    "Y = train_Ys[0]\n",
    "print(X, Y, sep='\\n')\n",
    "print(X.shape, Y.shape)"
   ]
  },
  {
   "cell_type": "code",
   "execution_count": null,
   "metadata": {},
   "outputs": [],
   "source": [
    "L = np.array([len(x) for x in X])\n",
    "print(L.min(), L.max())"
   ]
  },
  {
   "cell_type": "code",
   "execution_count": null,
   "metadata": {},
   "outputs": [],
   "source": [
    "s = 'ATCG'\n",
    "def one_hot(X):\n",
    "    '''NxT -> NxTx4'''\n",
    "    return X[:,:,None] == np.arange(4)[None,None,:]\n",
    "X1 = one_hot(X)\n",
    "print(X1.shape)"
   ]
  },
  {
   "cell_type": "code",
   "execution_count": null,
   "metadata": {},
   "outputs": [],
   "source": [
    "Ibound = np.nonzero(Y)[0]\n",
    "Iunbound = np.nonzero(~Y)[0]\n",
    "def plot_correl(f, X=X1):\n",
    "    plt.figure(figsize=(15,5))\n",
    "    \n",
    "    plt.subplot(1, 2, 1)\n",
    "    f(X[Ibound])\n",
    "    plt.title('Bound sequences')\n",
    "    plt.legend()\n",
    "    \n",
    "    plt.subplot(1, 2, 2)\n",
    "    f(X[Iunbound])\n",
    "    plt.title('Unbound sequences')\n",
    "    plt.legend()\n",
    "    \n",
    "    plt.tight_layout()\n",
    "    plt.show()"
   ]
  },
  {
   "cell_type": "code",
   "execution_count": null,
   "metadata": {},
   "outputs": [],
   "source": [
    "print('{:.0f}% of bound sequences'.format(100 * Y.mean()))"
   ]
  },
  {
   "cell_type": "code",
   "execution_count": null,
   "metadata": {},
   "outputs": [],
   "source": [
    "def f(X1):\n",
    "    plt.hist(X1.sum(axis=1), label=list(s))\n",
    "    plt.ylabel('Number of sequences')\n",
    "    plt.xlabel('Number of occurences of nucleotide')\n",
    "plot_correl(f)"
   ]
  },
  {
   "cell_type": "code",
   "execution_count": null,
   "metadata": {},
   "outputs": [],
   "source": [
    "def f(X1):\n",
    "    for i in range(4):\n",
    "        plt.plot(100*X1.mean(axis=0)[:,i], label=s[i])\n",
    "    plt.xlabel('Index')\n",
    "    plt.ylabel('Percentage of occurences of nucleotide')\n",
    "plot_correl(f)"
   ]
  },
  {
   "cell_type": "code",
   "execution_count": null,
   "metadata": {},
   "outputs": [],
   "source": [
    "plt.figure(figsize=(20,5))\n",
    "i = 0\n",
    "for c in s:\n",
    "    i += 1\n",
    "    plt.plot(np.arange(101), np.mean((2*X1[:,:,i-1] - 1) * (2*Y - 1)[:,None], axis=0), label=c)\n",
    "plt.legend()\n",
    "plt.title('Correlation between nucleotide and boundedness')\n",
    "plt.show()"
   ]
  },
  {
   "cell_type": "code",
   "execution_count": null,
   "metadata": {},
   "outputs": [],
   "source": [
    "greedy_Cs = [1e2, 1e5, 1e5]\n",
    "def correlindex(k=None, w=None, dataset=0, folds=5, stride=1):\n",
    "    \"\"\"\n",
    "    Plots validation error when using only a slice of the input data.\n",
    "    The window length is w = 2*k + 1, specify either one.\n",
    "    \"\"\"\n",
    "    if w is None:\n",
    "        w = 2*k+1\n",
    "    else:\n",
    "        k = (w-1)//2\n",
    "    train_X = train_Xs[dataset]\n",
    "    train_Y = train_Ys[dataset]\n",
    "    C = greedy_Cs[dataset]\n",
    "\n",
    "    xs = []\n",
    "    means = []\n",
    "    stds = []\n",
    "    for x in tqdm_notebook(range(k, 101-k, stride)):\n",
    "        xs.append(x)\n",
    "        s = np.index_exp[:, slice(x-k, x+k+1)]\n",
    "        train_K = cum_spectrum(train_X[s], k=w)\n",
    "        mean, std = evaluate(svm.SVC(kernel='precomputed', C=C), train_K, train_Y, folds=folds)[0:2]\n",
    "        means.append(mean)\n",
    "        stds.append(std)\n",
    "    means = np.array(means)\n",
    "    stds = np.array(stds)\n",
    "        \n",
    "    plt.figure()\n",
    "    plt.fill_between(xs, means - stds, means + stds, alpha=0.3)\n",
    "    plt.plot(xs, means, label='Accuracy')\n",
    "    plt.xlabel('Index in sequence')\n",
    "    plt.ylabel('Validation score')\n",
    "    plt.title('Evolution of score when using only a window of input')\n",
    "    plt.plot(xs, means[::-1], label='Symmetrized accuracy around center')\n",
    "    plt.fill_between(xs, means[::-1] - stds[::-1], means[::-1] + stds[::-1], alpha=0.3)\n",
    "    x = xs[means.argmax()]\n",
    "    plt.vlines(50, means.min() - 0.1, means.max() + 0.1, label='Center', colors='C2')\n",
    "    plt.vlines(x, means.min() - 0.1, means.max() + 0.1, label='Max {:.0f}% at x={}'.format(100*means.max(), x), colors='C3')\n",
    "    plt.legend()\n",
    "    plt.show()\n",
    "\n",
    "for d in range(3):\n",
    "    correlindex(w=11, dataset=d)"
   ]
  },
  {
   "cell_type": "markdown",
   "metadata": {},
   "source": [
    "Conclusions:\n",
    "- $A \\approx T \\neq C \\approx G$\n",
    "- interesting things happen at the index 50, indices 0-49 and 51-100 are less important as we go near the bounds"
   ]
  }
 ],
 "metadata": {
  "kernelspec": {
   "display_name": "Python 3",
   "language": "python",
   "name": "python3"
  },
  "language_info": {
   "codemirror_mode": {
    "name": "ipython",
    "version": 3
   },
   "file_extension": ".py",
   "mimetype": "text/x-python",
   "name": "python",
   "nbconvert_exporter": "python",
   "pygments_lexer": "ipython3",
   "version": "3.6.8"
  }
 },
 "nbformat": 4,
 "nbformat_minor": 1
}
