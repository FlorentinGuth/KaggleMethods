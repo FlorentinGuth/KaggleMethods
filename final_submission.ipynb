{
 "cells": [
  {
   "cell_type": "code",
   "execution_count": 84,
   "metadata": {},
   "outputs": [
    {
     "name": "stdout",
     "output_type": "stream",
     "text": [
      "The autoreload extension is already loaded. To reload it, use:\n",
      "  %reload_ext autoreload\n"
     ]
    }
   ],
   "source": [
    "%load_ext autoreload\n",
    "%autoreload\n",
    "\n",
    "import sys\n",
    "sys.path.append('src')\n",
    "\n",
    "from utils import *\n",
    "import time\n",
    "from tqdm import tqdm_notebook\n",
    "import os\n",
    "from sklearn import svm as sksvm\n",
    "from matplotlib import pyplot as plt"
   ]
  },
  {
   "cell_type": "code",
   "execution_count": 85,
   "metadata": {},
   "outputs": [],
   "source": [
    "from src import svm\n",
    "from native_utils import coordinate_descent"
   ]
  },
  {
   "cell_type": "markdown",
   "metadata": {},
   "source": [
    "# Spectrum experiments"
   ]
  },
  {
   "cell_type": "code",
   "execution_count": 106,
   "metadata": {},
   "outputs": [],
   "source": [
    "import spectrum"
   ]
  },
  {
   "cell_type": "code",
   "execution_count": 149,
   "metadata": {},
   "outputs": [],
   "source": [
    "for k in range(1, 102):\n",
    "    precomputed_kernels(k_spectrum, 'spectrum_{}'.format(k), k=k)"
   ]
  },
  {
   "cell_type": "code",
   "execution_count": 203,
   "metadata": {},
   "outputs": [
    {
     "name": "stdout",
     "output_type": "stream",
     "text": [
      "dataset: Validation 52.20 ± 0.00\t Train 100.00 ± 0.00\t C=1e+00\n",
      "dataset: Validation 70.90 ± 0.00\t Train 100.00 ± 0.00\t C=1e+00\n",
      "dataset: Validation 64.40 ± 0.00\t Train 100.00 ± 0.00\t C=1e+03\n",
      "total:   Validation 62.50 ± 0.00\t Train 100.00 ± 0.00\t\n",
      "dataset: Validation 52.25 ± 0.00\t Train 100.00 ± 0.00\t C=1e+01\n",
      "dataset: Validation 70.35 ± 0.00\t Train 100.00 ± 0.00\t C=1e+02\n",
      "dataset: Validation 63.35 ± 0.00\t Train 100.00 ± 0.00\t C=1e+01\n",
      "total:   Validation 61.98 ± 0.00\t Train 100.00 ± 0.00\t\n",
      "dataset: Validation 52.25 ± 0.00\t Train 100.00 ± 0.00\t C=1e+03\n",
      "dataset: Validation 70.15 ± 0.00\t Train 100.00 ± 0.00\t C=1e+02\n",
      "dataset: Validation 61.15 ± 0.00\t Train 100.00 ± 0.00\t C=1e+03\n",
      "total:   Validation 61.18 ± 0.00\t Train 100.00 ± 0.00\t\n",
      "dataset: Validation 52.25 ± 0.00\t Train 100.00 ± 0.00\t C=1e+00\n",
      "dataset: Validation 69.55 ± 0.00\t Train 100.00 ± 0.00\t C=1e+03\n",
      "dataset: Validation 60.00 ± 0.00\t Train 100.00 ± 0.00\t C=1e+02\n",
      "total:   Validation 60.60 ± 0.00\t Train 100.00 ± 0.00\t\n",
      "dataset: Validation 52.05 ± 0.00\t Train 100.00 ± 0.00\t C=1e+00\n",
      "dataset: Validation 69.35 ± 0.00\t Train 100.00 ± 0.00\t C=1e+02\n",
      "dataset: Validation 57.90 ± 0.00\t Train 100.00 ± 0.00\t C=1e+03\n",
      "total:   Validation 59.77 ± 0.00\t Train 100.00 ± 0.00\t\n",
      "dataset: Validation 52.15 ± 0.00\t Train 100.00 ± 0.00\t C=1e+02\n",
      "dataset: Validation 68.60 ± 0.00\t Train 100.00 ± 0.00\t C=1e+02\n",
      "dataset: Validation 46.45 ± 0.00\t Train 100.00 ± 0.00\t C=1e+00\n",
      "total:   Validation 55.73 ± 0.00\t Train 100.00 ± 0.00\t\n",
      "dataset: Validation 52.15 ± 0.00\t Train 100.00 ± 0.00\t C=1e+02\n",
      "dataset: Validation 69.30 ± 0.00\t Train 100.00 ± 0.00\t C=1e+03\n",
      "dataset: Validation 45.55 ± 0.00\t Train 55.24 ± 0.00\t C=1e-02\n",
      "total:   Validation 55.67 ± 0.00\t Train 85.08 ± 0.00\t\n"
     ]
    }
   ],
   "source": [
    "for k in [50, 60, 70, 80, 90, 100, 101]:\n",
    "    Ks = precomputed_kernels(k_spectrum, 'spectrum_{}'.format(k), k=k)\n",
    "    res = svm_kernels(Ks, sksvm.SVC, kernel='precomputed')\n",
    "    with open('spectrum_res_large.txt', 'a') as dst:\n",
    "        dst.write('{} {:.5f} {:.5f} {:.5f} {:.5f} {:.5f} {:.5f}\\n'.format(k, res[0][0], res[0][2], res[1][0], res[1][2], res[2][0], res[2][2]))"
   ]
  },
  {
   "cell_type": "code",
   "execution_count": 82,
   "metadata": {},
   "outputs": [],
   "source": [
    "def load_results(file):\n",
    "    with open(file, 'r') as src:\n",
    "        content = src.readlines()\n",
    "    ks = []\n",
    "    scores = []\n",
    "    \n",
    "    for line in content:\n",
    "        line = list(map(float, line.strip().split()))\n",
    "        assert(len(line) == 7)\n",
    "        ks.append(int(line[0]))\n",
    "        scores.append(line[1:])\n",
    "    \n",
    "    ks = np.array(ks)\n",
    "    scores = np.array(scores)\n",
    "    \n",
    "    return ks, scores\n",
    "\n",
    "\n",
    "def plot_validation(file, name=None):\n",
    "    if name is None:\n",
    "        name = file\n",
    "    ks, scores = load_results(file)\n",
    "    plt.plot(ks, np.mean(scores[:, [0, 2, 4]], axis=1), label=name)\n",
    "\n",
    "    \n",
    "def plot_results(show=True, **params):\n",
    "    for name in params:\n",
    "        plot_validation(params[name], name=name)\n",
    "    \n",
    "    plt.xlabel(\"Parameter k\")\n",
    "    plt.legend()\n",
    "    if show:\n",
    "        plt.show()"
   ]
  },
  {
   "cell_type": "code",
   "execution_count": 262,
   "metadata": {},
   "outputs": [
    {
     "data": {
      "image/png": "[encoded data removed]",
      "text/plain": [
       "<Figure size 432x288 with 1 Axes>"
      ]
     },
     "metadata": {},
     "output_type": "display_data"
    }
   ],
   "source": [
    "plot_results(spectrum='spectrum_res.txt', cumulative='cum_spectrum_res.txt')"
   ]
  },
  {
   "cell_type": "markdown",
   "metadata": {},
   "source": [
    "## Cum-spectrum"
   ]
  },
  {
   "cell_type": "code",
   "execution_count": null,
   "metadata": {
    "scrolled": true
   },
   "outputs": [],
   "source": [
    "Ks = None\n",
    "for k in range(1, 40):\n",
    "    new_Ks = precomputed_kernels(k_spectrum, 'spectrum_{}'.format(k), k=k)\n",
    "    if Ks is None:\n",
    "        Ks = new_Ks\n",
    "    else:\n",
    "        Ks = transform_kernels([Ks, new_Ks], lambda i, K1, K2: K1 + K2)\n",
    "    res = svm_kernels(transform_kernels([Ks], lambda i, K1: K1 / k), sksvm.SVC, kernel='precomputed')\n",
    "    with open('cum_spectrum_res.txt', 'a') as dst:\n",
    "        dst.write('{} {:.5f} {:.5f} {:.5f} {:.5f} {:.5f} {:.5f}\\n'.format(k, res[0][0], res[0][2], res[1][0], res[1][2], res[2][0], res[2][2]))"
   ]
  },
  {
   "cell_type": "markdown",
   "metadata": {},
   "source": [
    "## Weighted cum spectrum"
   ]
  },
  {
   "cell_type": "code",
   "execution_count": 80,
   "metadata": {},
   "outputs": [],
   "source": [
    "def weighted_cum_spectrum(k, T=1):\n",
    "    ks, weights = load_results('spectrum_res.txt')\n",
    "    weights = weights[:k, [0, 2, 4]]\n",
    "    weights = np.exp(T * weights)\n",
    "    weights /= np.sum(weights, axis=0)[None, :]\n",
    "    \n",
    "    print(weights)\n",
    "    \n",
    "    Ks = None\n",
    "    for i in range(1, k+1):\n",
    "        new_Ks = precomputed_kernels(k_spectrum, 'spectrum_{}'.format(i), k=i)\n",
    "        w = weights[i-1]\n",
    "        \n",
    "        if Ks is None:\n",
    "            Ks = transform_kernels([new_Ks], lambda j, K: w[j] * K)\n",
    "        else:\n",
    "            Ks = transform_kernels([Ks, new_Ks], lambda j, K1, K2: K1 + w[j] * K2)\n",
    "        \n",
    "    return Ks"
   ]
  },
  {
   "cell_type": "code",
   "execution_count": 86,
   "metadata": {},
   "outputs": [
    {
     "name": "stdout",
     "output_type": "stream",
     "text": [
      "[[6.21022377e-04 3.26695202e-07 4.60071275e-05]\n",
      " [5.89209626e-03 3.59192137e-05 8.57307214e-04]\n",
      " [5.73178352e-02 1.13439806e-04 5.89218057e-04]\n",
      " [3.30695142e-02 8.81189195e-04 1.52354682e-03]\n",
      " [1.67940850e-01 1.60563140e-03 2.05657309e-03]\n",
      " [2.32435284e-01 7.19594069e-03 1.86086429e-03]\n",
      " [1.21341858e-01 6.17761318e-02 3.65479883e-03]\n",
      " [1.01861275e-01 7.35905833e-02 1.85605999e-02]\n",
      " [4.93339180e-02 1.67924937e-01 2.00061765e-02]\n",
      " [3.56451052e-02 1.21330360e-01 6.16233620e-02]\n",
      " [2.77604359e-02 8.13301725e-02 7.34085968e-02]\n",
      " [2.05654367e-02 4.81112999e-02 7.52669443e-02]\n",
      " [1.77008354e-02 3.14537142e-02 8.31828379e-02]\n",
      " [1.60163782e-02 1.81472144e-02 6.01018757e-02]\n",
      " [1.60163782e-02 2.21650578e-02 4.56517094e-02]\n",
      " [1.10078850e-02 2.05634880e-02 5.04529415e-02]\n",
      " [1.72638002e-02 1.86066133e-02 4.79923226e-02]\n",
      " [1.21655944e-02 1.81472144e-02 4.34252492e-02]\n",
      " [1.07360994e-02 1.72621643e-02 4.34252492e-02]\n",
      " [1.02124936e-02 1.37841182e-02 3.73764584e-02]\n",
      " [1.24735679e-02 2.00557736e-02 3.21702159e-02]\n",
      " [5.46635393e-03 1.68359600e-02 3.38196181e-02]\n",
      " [2.58212276e-03 1.02115259e-02 2.83901159e-02]\n",
      " [1.91288359e-03 1.37841182e-02 2.00061765e-02]\n",
      " [1.02389280e-03 1.44908450e-02 2.00061765e-02]\n",
      " [2.22820634e-04 1.95605948e-02 1.81023371e-02]\n",
      " [4.60064692e-04 1.81472144e-02 2.05126353e-02]\n",
      " [9.26456520e-04 1.41330648e-02 1.81023371e-02]\n",
      " [1.07638891e-03 1.60148605e-02 1.76553888e-02]\n",
      " [8.81272702e-04 1.21644416e-02 1.55808259e-02]\n",
      " [7.97408516e-04 1.60148605e-02 1.34105412e-02]\n",
      " [1.02389280e-03 1.60148605e-02 1.63796720e-02]\n",
      " [9.49909878e-04 1.64202786e-02 1.44550098e-02]\n",
      " [8.17595009e-04 1.24723859e-02 1.40981143e-02]\n",
      " [8.38292525e-04 1.56194522e-02 8.55093857e-03]\n",
      " [9.03582227e-04 1.07350820e-02 9.93477324e-03]\n",
      " [8.81272702e-04 1.12854815e-02 1.04441400e-02]\n",
      " [8.59514002e-04 1.10068419e-02 8.76740661e-03]\n",
      " [9.98612799e-04 1.10068419e-02 8.55093857e-03]]\n",
      "dataset: Validation 63.45 ± 0.00\t Train 95.10 ± 0.00\t C=1e+00\n",
      "dataset: Validation 77.55 ± 0.00\t Train 100.00 ± 0.00\t C=1e+01\n",
      "dataset: Validation 70.40 ± 0.00\t Train 100.00 ± 0.00\t C=1e+01\n",
      "total:   Validation 70.47 ± 0.00\t Train 98.37 ± 0.00\t\n"
     ]
    },
    {
     "data": {
      "text/plain": [
       "[array([0.6345    , 0.        , 0.95097368, 0.        ]),\n",
       " array([0.7755, 0.    , 1.    , 0.    ]),\n",
       " array([0.704, 0.   , 1.   , 0.   ])]"
      ]
     },
     "execution_count": 86,
     "metadata": {},
     "output_type": "execute_result"
    }
   ],
   "source": [
    "svm_kernels(weighted_cum_spectrum(39, T=50), svm.SVCCoordinate, kernel='precomputed', intercept=1, loss='hinge')"
   ]
  },
  {
   "cell_type": "code",
   "execution_count": 394,
   "metadata": {},
   "outputs": [
    {
     "name": "stdout",
     "output_type": "stream",
     "text": [
      "[[6.43610469e-04 4.51220564e-07 6.85586186e-05]\n",
      " [6.10640611e-03 4.96104252e-05 1.27753680e-03]\n",
      " [5.94026241e-02 1.56679293e-04 8.78037343e-04]\n",
      " [3.42723327e-02 1.21706925e-03 2.27034964e-03]\n",
      " [1.74049267e-01 2.21764477e-03 3.06465146e-03]\n",
      " [2.40889519e-01 9.93879433e-03 2.77301131e-03]\n",
      " [1.25755356e-01 8.53231419e-02 5.44628566e-03]\n",
      " [1.05566217e-01 1.01640870e-01 2.76585208e-02]\n",
      " [5.11283124e-02 2.31932346e-01 2.98126812e-02]\n",
      " [3.69416042e-02 1.67577464e-01 9.18295229e-02]\n",
      " [2.87701503e-02 1.12330534e-01 1.09391572e-01]\n",
      " [2.13134516e-02 6.64497297e-02 1.12160833e-01]\n",
      " [1.83446578e-02 4.34428255e-02 1.23956890e-01]\n",
      " [1.65989328e-02 2.50643300e-02 8.95622439e-02]\n",
      " [1.65989328e-02 3.06136417e-02 6.80289838e-02]\n",
      " [1.14082685e-02 2.84016067e-02 7.51836544e-02]\n",
      " [1.78917265e-02 2.56988365e-02 7.15169043e-02]\n",
      " [1.26080866e-02 2.50643300e-02 6.47111711e-02]\n",
      " [1.11265974e-02 2.38419282e-02 6.47111711e-02]\n",
      " [1.05839468e-02 1.90381663e-02 5.56974211e-02]]\n",
      "dataset: Validation 62.80 ± 0.00\t Train 100.00 ± 0.00\t C=1e+03\n",
      "dataset: Validation 77.50 ± 0.00\t Train 100.00 ± 0.00\t C=1e+01\n",
      "dataset: Validation 70.10 ± 0.00\t Train 99.65 ± 0.00\t C=1e+00\n",
      "total:   Validation 70.13 ± 0.00\t Train 99.88 ± 0.00\t\n"
     ]
    },
    {
     "data": {
      "text/plain": [
       "[array([0.628, 0.   , 1.   , 0.   ]),\n",
       " array([0.775, 0.   , 1.   , 0.   ]),\n",
       " array([0.701 , 0.    , 0.9965, 0.    ])]"
      ]
     },
     "execution_count": 394,
     "metadata": {},
     "output_type": "execute_result"
    }
   ],
   "source": [
    "svm_kernels(weighted_cum_spectrum(20, T=50), sksvm.SVC, kernel='precomputed')"
   ]
  },
  {
   "cell_type": "markdown",
   "metadata": {},
   "source": [
    "# Mismatch kernel"
   ]
  },
  {
   "cell_type": "code",
   "execution_count": 248,
   "metadata": {},
   "outputs": [],
   "source": [
    "for k in range(1, 13):\n",
    "    precomputed_kernels(k_spectrum_mismatch, 'mismatch_{}'.format(k), k=k)"
   ]
  },
  {
   "cell_type": "code",
   "execution_count": 249,
   "metadata": {},
   "outputs": [
    {
     "name": "stdout",
     "output_type": "stream",
     "text": [
      "dataset: Validation 63.40 ± 0.00\t Train 88.36 ± 0.00\t C=1e+00\n",
      "dataset: Validation 73.60 ± 0.00\t Train 92.56 ± 0.00\t C=1e+00\n",
      "dataset: Validation 64.65 ± 0.00\t Train 88.97 ± 0.00\t C=1e+00\n",
      "total:   Validation 67.22 ± 0.00\t Train 89.96 ± 0.00\t\n",
      "dataset: Validation 63.30 ± 0.00\t Train 95.28 ± 0.00\t C=1e+00\n",
      "dataset: Validation 77.50 ± 0.00\t Train 98.03 ± 0.00\t C=1e+00\n",
      "dataset: Validation 66.25 ± 0.00\t Train 95.76 ± 0.00\t C=1e+00\n",
      "total:   Validation 69.02 ± 0.00\t Train 96.36 ± 0.00\t\n",
      "dataset: Validation 61.75 ± 0.00\t Train 100.00 ± 0.00\t C=1e+02\n",
      "dataset: Validation 77.65 ± 0.00\t Train 99.80 ± 0.00\t C=1e+00\n",
      "dataset: Validation 67.15 ± 0.00\t Train 98.42 ± 0.00\t C=1e+00\n",
      "total:   Validation 68.85 ± 0.00\t Train 99.41 ± 0.00\t\n",
      "dataset: Validation 61.55 ± 0.00\t Train 98.21 ± 0.00\t C=1e+00\n",
      "dataset: Validation 78.10 ± 0.00\t Train 100.00 ± 0.00\t C=1e+03\n",
      "dataset: Validation 66.80 ± 0.00\t Train 100.00 ± 0.00\t C=1e+03\n",
      "total:   Validation 68.82 ± 0.00\t Train 99.40 ± 0.00\t\n",
      "dataset: Validation 61.80 ± 0.00\t Train 100.00 ± 0.00\t C=1e+01\n",
      "dataset: Validation 77.80 ± 0.00\t Train 100.00 ± 0.00\t C=1e+01\n",
      "dataset: Validation 69.60 ± 0.00\t Train 99.22 ± 0.00\t C=1e+00\n",
      "total:   Validation 69.73 ± 0.00\t Train 99.74 ± 0.00\t\n",
      "dataset: Validation 60.20 ± 0.00\t Train 100.00 ± 0.00\t C=1e+03\n",
      "dataset: Validation 76.15 ± 0.00\t Train 100.00 ± 0.00\t C=1e+03\n",
      "dataset: Validation 69.60 ± 0.00\t Train 99.50 ± 0.00\t C=1e+00\n",
      "total:   Validation 68.65 ± 0.00\t Train 99.83 ± 0.00\t\n"
     ]
    }
   ],
   "source": [
    "for k in range(7, 13):\n",
    "    Ks = precomputed_kernels(k_spectrum_mismatch, 'mismatch_{}'.format(k), k=k)\n",
    "    res = svm_kernels(Ks, sksvm.SVC, kernel='precomputed')\n",
    "    with open('mismatch_res.txt', 'a') as dst:\n",
    "        dst.write('{} {:.5f} {:.5f} {:.5f} {:.5f} {:.5f} {:.5f}\\n'.format(k, res[0][0], res[0][2], res[1][0], res[1][2], res[2][0], res[2][2]))"
   ]
  },
  {
   "cell_type": "markdown",
   "metadata": {},
   "source": [
    "## Cumulative"
   ]
  },
  {
   "cell_type": "code",
   "execution_count": 250,
   "metadata": {},
   "outputs": [
    {
     "name": "stdout",
     "output_type": "stream",
     "text": [
      "dataset: Validation 51.15 ± 0.00\t Train 51.15 ± 0.00\t C=1e-03\n",
      "dataset: Validation 49.85 ± 0.00\t Train 52.20 ± 0.00\t C=1e+03\n",
      "dataset: Validation 54.75 ± 0.00\t Train 55.49 ± 0.00\t C=1e+02\n",
      "total:   Validation 51.92 ± 0.00\t Train 52.94 ± 0.00\t\n",
      "dataset: Validation 51.15 ± 0.00\t Train 51.15 ± 0.00\t C=1e-03\n",
      "dataset: Validation 53.05 ± 0.00\t Train 54.33 ± 0.00\t C=1e+03\n",
      "dataset: Validation 55.30 ± 0.00\t Train 55.63 ± 0.00\t C=1e+02\n",
      "total:   Validation 53.17 ± 0.00\t Train 53.70 ± 0.00\t\n",
      "dataset: Validation 59.70 ± 0.00\t Train 63.17 ± 0.00\t C=1e+02\n",
      "dataset: Validation 63.65 ± 0.00\t Train 66.99 ± 0.00\t C=1e+02\n",
      "dataset: Validation 60.55 ± 0.00\t Train 61.68 ± 0.00\t C=1e+01\n",
      "total:   Validation 61.30 ± 0.00\t Train 63.95 ± 0.00\t\n",
      "dataset: Validation 60.35 ± 0.00\t Train 69.66 ± 0.00\t C=1e+02\n",
      "dataset: Validation 67.80 ± 0.00\t Train 74.84 ± 0.00\t C=1e+02\n",
      "dataset: Validation 62.20 ± 0.00\t Train 70.88 ± 0.00\t C=1e+02\n",
      "total:   Validation 63.45 ± 0.00\t Train 71.79 ± 0.00\t\n",
      "dataset: Validation 61.25 ± 0.00\t Train 72.83 ± 0.00\t C=1e+01\n",
      "dataset: Validation 68.75 ± 0.00\t Train 78.06 ± 0.00\t C=1e+01\n",
      "dataset: Validation 63.35 ± 0.00\t Train 81.94 ± 0.00\t C=1e+02\n",
      "total:   Validation 64.45 ± 0.00\t Train 77.61 ± 0.00\t\n",
      "dataset: Validation 62.25 ± 0.00\t Train 83.34 ± 0.00\t C=1e+01\n",
      "dataset: Validation 71.40 ± 0.00\t Train 88.07 ± 0.00\t C=1e+01\n",
      "dataset: Validation 64.45 ± 0.00\t Train 84.04 ± 0.00\t C=1e+01\n",
      "total:   Validation 66.03 ± 0.00\t Train 85.15 ± 0.00\t\n",
      "dataset: Validation 61.20 ± 0.00\t Train 93.63 ± 0.00\t C=1e+01\n",
      "dataset: Validation 74.35 ± 0.00\t Train 96.89 ± 0.00\t C=1e+01\n",
      "dataset: Validation 63.95 ± 0.00\t Train 100.00 ± 0.00\t C=1e+03\n",
      "total:   Validation 66.50 ± 0.00\t Train 96.84 ± 0.00\t\n",
      "dataset: Validation 62.30 ± 0.00\t Train 79.66 ± 0.00\t C=1e+00\n",
      "dataset: Validation 75.15 ± 0.00\t Train 100.00 ± 0.00\t C=1e+03\n",
      "dataset: Validation 63.55 ± 0.00\t Train 100.00 ± 0.00\t C=1e+03\n",
      "total:   Validation 67.00 ± 0.00\t Train 93.22 ± 0.00\t\n",
      "dataset: Validation 62.05 ± 0.00\t Train 83.81 ± 0.00\t C=1e+00\n",
      "dataset: Validation 77.10 ± 0.00\t Train 100.00 ± 0.00\t C=1e+01\n",
      "dataset: Validation 64.95 ± 0.00\t Train 100.00 ± 0.00\t C=1e+02\n",
      "total:   Validation 68.03 ± 0.00\t Train 94.60 ± 0.00\t\n",
      "dataset: Validation 63.50 ± 0.00\t Train 87.38 ± 0.00\t C=1e+00\n",
      "dataset: Validation 77.10 ± 0.00\t Train 100.00 ± 0.00\t C=1e+02\n",
      "dataset: Validation 67.00 ± 0.00\t Train 100.00 ± 0.00\t C=1e+03\n",
      "total:   Validation 69.20 ± 0.00\t Train 95.79 ± 0.00\t\n",
      "dataset: Validation 63.00 ± 0.00\t Train 89.90 ± 0.00\t C=1e+00\n",
      "dataset: Validation 77.55 ± 0.00\t Train 100.00 ± 0.00\t C=1e+03\n",
      "dataset: Validation 65.95 ± 0.00\t Train 100.00 ± 0.00\t C=1e+01\n",
      "total:   Validation 68.83 ± 0.00\t Train 96.63 ± 0.00\t\n",
      "dataset: Validation 62.80 ± 0.00\t Train 91.77 ± 0.00\t C=1e+00\n",
      "dataset: Validation 77.50 ± 0.00\t Train 100.00 ± 0.00\t C=1e+03\n",
      "dataset: Validation 67.10 ± 0.00\t Train 100.00 ± 0.00\t C=1e+01\n",
      "total:   Validation 69.13 ± 0.00\t Train 97.26 ± 0.00\t\n"
     ]
    }
   ],
   "source": [
    "Ks = None\n",
    "for k in range(1, 13):\n",
    "    new_Ks = precomputed_kernels(k_spectrum_mismatch, 'mismatch_{}'.format(k), k=k)\n",
    "    if Ks is None:\n",
    "        Ks = new_Ks\n",
    "    else:\n",
    "        Ks = transform_kernels([Ks, new_Ks], lambda i, K1, K2: K1 + K2)\n",
    "    res = svm_kernels(transform_kernels([Ks], lambda i, K1: K1 / k), sksvm.SVC, kernel='precomputed')\n",
    "    with open('cum_mismatch_res.txt', 'a') as dst:\n",
    "        dst.write('{} {:.5f} {:.5f} {:.5f} {:.5f} {:.5f} {:.5f}\\n'.format(k, res[0][0], res[0][2], res[1][0], res[1][2], res[2][0], res[2][2]))"
   ]
  },
  {
   "cell_type": "code",
   "execution_count": 263,
   "metadata": {},
   "outputs": [
    {
     "data": {
      "image/png": "[encoded data removed]",
      "text/plain": [
       "<Figure size 432x288 with 1 Axes>"
      ]
     },
     "metadata": {},
     "output_type": "display_data"
    }
   ],
   "source": [
    "plot_results(mismatch='mismatch_res.txt', cumulative='cum_mismatch_res.txt')"
   ]
  },
  {
   "cell_type": "markdown",
   "metadata": {},
   "source": [
    "# Mismatch, with decay = 1"
   ]
  },
  {
   "cell_type": "code",
   "execution_count": 252,
   "metadata": {},
   "outputs": [],
   "source": [
    "for k in range(1, 13):\n",
    "    precomputed_kernels(k_spectrum_mismatch, 'mismatch_1_{}'.format(k), k=k, decay=1)"
   ]
  },
  {
   "cell_type": "code",
   "execution_count": 256,
   "metadata": {},
   "outputs": [
    {
     "name": "stdout",
     "output_type": "stream",
     "text": [
      "dataset: Validation 51.15 ± 0.00\t Train 51.15 ± 0.00\t C=1e-03\n",
      "dataset: Validation 45.40 ± 0.00\t Train 50.24 ± 0.00\t C=1e+03\n",
      "dataset: Validation 45.45 ± 0.00\t Train 50.25 ± 0.00\t C=1e+01\n",
      "total:   Validation 47.33 ± 0.00\t Train 50.55 ± 0.00\t\n",
      "dataset: Validation 55.70 ± 0.00\t Train 58.13 ± 0.00\t C=1e+03\n",
      "dataset: Validation 60.30 ± 0.00\t Train 61.87 ± 0.00\t C=1e+03\n",
      "dataset: Validation 60.85 ± 0.00\t Train 62.07 ± 0.00\t C=1e+02\n",
      "total:   Validation 58.95 ± 0.00\t Train 60.69 ± 0.00\t\n",
      "dataset: Validation 59.55 ± 0.00\t Train 63.29 ± 0.00\t C=1e+01\n",
      "dataset: Validation 63.25 ± 0.00\t Train 66.39 ± 0.00\t C=1e+02\n",
      "dataset: Validation 61.30 ± 0.00\t Train 64.03 ± 0.00\t C=1e+02\n",
      "total:   Validation 61.37 ± 0.00\t Train 64.57 ± 0.00\t\n",
      "dataset: Validation 59.10 ± 0.00\t Train 69.74 ± 0.00\t C=1e+02\n",
      "dataset: Validation 66.05 ± 0.00\t Train 75.73 ± 0.00\t C=1e+03\n",
      "dataset: Validation 62.05 ± 0.00\t Train 68.96 ± 0.00\t C=1e+01\n",
      "total:   Validation 62.40 ± 0.00\t Train 71.48 ± 0.00\t\n",
      "dataset: Validation 60.20 ± 0.00\t Train 69.86 ± 0.00\t C=1e+00\n",
      "dataset: Validation 68.20 ± 0.00\t Train 75.46 ± 0.00\t C=1e+00\n",
      "dataset: Validation 62.35 ± 0.00\t Train 70.36 ± 0.00\t C=1e+00\n",
      "total:   Validation 63.58 ± 0.00\t Train 71.89 ± 0.00\t\n",
      "dataset: Validation 62.00 ± 0.00\t Train 79.64 ± 0.00\t C=1e+00\n",
      "dataset: Validation 71.70 ± 0.00\t Train 84.50 ± 0.00\t C=1e+00\n",
      "dataset: Validation 63.05 ± 0.00\t Train 79.89 ± 0.00\t C=1e+00\n",
      "total:   Validation 65.58 ± 0.00\t Train 81.35 ± 0.00\t\n",
      "dataset: Validation 63.00 ± 0.00\t Train 89.11 ± 0.00\t C=1e+00\n",
      "dataset: Validation 74.80 ± 0.00\t Train 100.00 ± 0.00\t C=1e+02\n",
      "dataset: Validation 63.95 ± 0.00\t Train 89.83 ± 0.00\t C=1e+00\n",
      "total:   Validation 67.25 ± 0.00\t Train 92.98 ± 0.00\t\n",
      "dataset: Validation 63.90 ± 0.00\t Train 95.54 ± 0.00\t C=1e+00\n",
      "dataset: Validation 77.00 ± 0.00\t Train 98.21 ± 0.00\t C=1e+00\n",
      "dataset: Validation 65.80 ± 0.00\t Train 96.14 ± 0.00\t C=1e+00\n",
      "total:   Validation 68.90 ± 0.00\t Train 96.63 ± 0.00\t\n",
      "dataset: Validation 62.15 ± 0.00\t Train 97.71 ± 0.00\t C=1e+00\n",
      "dataset: Validation 78.15 ± 0.00\t Train 100.00 ± 0.00\t C=1e+02\n",
      "dataset: Validation 67.05 ± 0.00\t Train 98.57 ± 0.00\t C=1e+00\n",
      "total:   Validation 69.12 ± 0.00\t Train 98.76 ± 0.00\t\n",
      "dataset: Validation 61.55 ± 0.00\t Train 100.00 ± 0.00\t C=1e+02\n",
      "dataset: Validation 79.35 ± 0.00\t Train 100.00 ± 0.00\t C=1e+02\n",
      "dataset: Validation 68.10 ± 0.00\t Train 99.03 ± 0.00\t C=1e+00\n",
      "total:   Validation 69.67 ± 0.00\t Train 99.68 ± 0.00\t\n",
      "dataset: Validation 62.00 ± 0.00\t Train 100.00 ± 0.00\t C=1e+02\n",
      "dataset: Validation 78.00 ± 0.00\t Train 100.00 ± 0.00\t C=1e+02\n",
      "dataset: Validation 68.90 ± 0.00\t Train 99.25 ± 0.00\t C=1e+00\n",
      "total:   Validation 69.63 ± 0.00\t Train 99.75 ± 0.00\t\n",
      "dataset: Validation 59.40 ± 0.00\t Train 100.00 ± 0.00\t C=1e+03\n",
      "dataset: Validation 76.85 ± 0.00\t Train 100.00 ± 0.00\t C=1e+02\n",
      "dataset: Validation 70.55 ± 0.00\t Train 99.51 ± 0.00\t C=1e+00\n",
      "total:   Validation 68.93 ± 0.00\t Train 99.84 ± 0.00\t\n"
     ]
    }
   ],
   "source": [
    "for k in range(1, 13):\n",
    "    Ks = precomputed_kernels(k_spectrum_mismatch, 'mismatch_1_{}'.format(k), k=k, decay=1)\n",
    "    res = svm_kernels(Ks, sksvm.SVC, kernel='precomputed')\n",
    "    with open('mismatch_1_res.txt', 'a') as dst:\n",
    "        dst.write('{} {:.5f} {:.5f} {:.5f} {:.5f} {:.5f} {:.5f}\\n'.format(k, res[0][0], res[0][2], res[1][0], res[1][2], res[2][0], res[2][2]))"
   ]
  },
  {
   "cell_type": "code",
   "execution_count": 254,
   "metadata": {},
   "outputs": [
    {
     "name": "stdout",
     "output_type": "stream",
     "text": [
      "dataset: Validation 51.15 ± 0.00\t Train 51.15 ± 0.00\t C=1e-03\n",
      "dataset: Validation 46.20 ± 0.00\t Train 50.23 ± 0.00\t C=1e+00\n",
      "dataset: Validation 46.55 ± 0.00\t Train 50.19 ± 0.00\t C=1e+03\n",
      "total:   Validation 47.97 ± 0.00\t Train 50.52 ± 0.00\t\n",
      "dataset: Validation 56.45 ± 0.00\t Train 57.84 ± 0.00\t C=1e+02\n",
      "dataset: Validation 59.80 ± 0.00\t Train 61.81 ± 0.00\t C=1e+03\n",
      "dataset: Validation 60.90 ± 0.00\t Train 61.84 ± 0.00\t C=1e+02\n",
      "total:   Validation 59.05 ± 0.00\t Train 60.50 ± 0.00\t\n",
      "dataset: Validation 59.10 ± 0.00\t Train 64.17 ± 0.00\t C=1e+03\n",
      "dataset: Validation 62.40 ± 0.00\t Train 66.92 ± 0.00\t C=1e+03\n",
      "dataset: Validation 59.95 ± 0.00\t Train 64.70 ± 0.00\t C=1e+03\n",
      "total:   Validation 60.48 ± 0.00\t Train 65.26 ± 0.00\t\n",
      "dataset: Validation 59.80 ± 0.00\t Train 66.26 ± 0.00\t C=1e+01\n",
      "dataset: Validation 69.05 ± 0.00\t Train 76.71 ± 0.00\t C=1e+03\n",
      "dataset: Validation 61.55 ± 0.00\t Train 66.32 ± 0.00\t C=1e+01\n",
      "total:   Validation 63.47 ± 0.00\t Train 69.76 ± 0.00\t\n",
      "dataset: Validation 60.90 ± 0.00\t Train 73.77 ± 0.00\t C=1e+01\n",
      "dataset: Validation 69.15 ± 0.00\t Train 78.36 ± 0.00\t C=1e+01\n",
      "dataset: Validation 63.20 ± 0.00\t Train 75.24 ± 0.00\t C=1e+01\n",
      "total:   Validation 64.42 ± 0.00\t Train 75.79 ± 0.00\t\n",
      "dataset: Validation 63.15 ± 0.00\t Train 84.92 ± 0.00\t C=1e+01\n",
      "dataset: Validation 70.40 ± 0.00\t Train 89.69 ± 0.00\t C=1e+01\n",
      "dataset: Validation 64.90 ± 0.00\t Train 85.86 ± 0.00\t C=1e+01\n",
      "total:   Validation 66.15 ± 0.00\t Train 86.82 ± 0.00\t\n",
      "dataset: Validation 61.20 ± 0.00\t Train 75.29 ± 0.00\t C=1e+00\n",
      "dataset: Validation 73.55 ± 0.00\t Train 100.00 ± 0.00\t C=1e+03\n",
      "dataset: Validation 64.30 ± 0.00\t Train 99.97 ± 0.00\t C=1e+02\n",
      "total:   Validation 66.35 ± 0.00\t Train 91.75 ± 0.00\t\n",
      "dataset: Validation 61.60 ± 0.00\t Train 80.39 ± 0.00\t C=1e+00\n",
      "dataset: Validation 75.55 ± 0.00\t Train 99.88 ± 0.00\t C=1e+01\n",
      "dataset: Validation 65.90 ± 0.00\t Train 100.00 ± 0.00\t C=1e+02\n",
      "total:   Validation 67.68 ± 0.00\t Train 93.42 ± 0.00\t\n",
      "dataset: Validation 62.70 ± 0.00\t Train 84.59 ± 0.00\t C=1e+00\n",
      "dataset: Validation 77.20 ± 0.00\t Train 100.00 ± 0.00\t C=1e+02\n",
      "dataset: Validation 66.05 ± 0.00\t Train 100.00 ± 0.00\t C=1e+02\n",
      "total:   Validation 68.65 ± 0.00\t Train 94.86 ± 0.00\t\n",
      "dataset: Validation 62.55 ± 0.00\t Train 88.02 ± 0.00\t C=1e+00\n",
      "dataset: Validation 77.00 ± 0.00\t Train 100.00 ± 0.00\t C=1e+01\n",
      "dataset: Validation 65.90 ± 0.00\t Train 99.96 ± 0.00\t C=1e+01\n",
      "total:   Validation 68.48 ± 0.00\t Train 95.99 ± 0.00\t\n",
      "dataset: Validation 63.10 ± 0.00\t Train 100.00 ± 0.00\t C=1e+03\n",
      "dataset: Validation 77.45 ± 0.00\t Train 100.00 ± 0.00\t C=1e+03\n",
      "dataset: Validation 67.05 ± 0.00\t Train 100.00 ± 0.00\t C=1e+01\n",
      "total:   Validation 69.20 ± 0.00\t Train 100.00 ± 0.00\t\n",
      "dataset: Validation 62.30 ± 0.00\t Train 100.00 ± 0.00\t C=1e+03\n",
      "dataset: Validation 78.30 ± 0.00\t Train 100.00 ± 0.00\t C=1e+02\n",
      "dataset: Validation 66.60 ± 0.00\t Train 100.00 ± 0.00\t C=1e+01\n",
      "total:   Validation 69.07 ± 0.00\t Train 100.00 ± 0.00\t\n"
     ]
    }
   ],
   "source": [
    "Ks = None\n",
    "for k in range(1, 13):\n",
    "    new_Ks = precomputed_kernels(k_spectrum_mismatch, 'mismatch_1_{}'.format(k), k=k, decay=1)\n",
    "    if Ks is None:\n",
    "        Ks = new_Ks\n",
    "    else:\n",
    "        Ks = transform_kernels([Ks, new_Ks], lambda i, K1, K2: K1 + K2)\n",
    "    res = svm_kernels(transform_kernels([Ks], lambda i, K1: K1 / k), sksvm.SVC, kernel='precomputed')\n",
    "    with open('cum_mismatch_1_res.txt', 'a') as dst:\n",
    "        dst.write('{} {:.5f} {:.5f} {:.5f} {:.5f} {:.5f} {:.5f}\\n'.format(k, res[0][0], res[0][2], res[1][0], res[1][2], res[2][0], res[2][2]))"
   ]
  },
  {
   "cell_type": "code",
   "execution_count": 264,
   "metadata": {},
   "outputs": [
    {
     "data": {
      "image/png": "[encoded data removed]",
      "text/plain": [
       "<Figure size 432x288 with 1 Axes>"
      ]
     },
     "metadata": {},
     "output_type": "display_data"
    }
   ],
   "source": [
    "plot_results(mismatch_1='mismatch_1_res.txt', cumulative_mismatch_1='cum_mismatch_1_res.txt')"
   ]
  },
  {
   "cell_type": "markdown",
   "metadata": {},
   "source": [
    "## Weighted cum mismatch"
   ]
  },
  {
   "cell_type": "code",
   "execution_count": 285,
   "metadata": {},
   "outputs": [],
   "source": [
    "def weighted_cum_mismatch(T=1, use_1=True):\n",
    "    ks, weights = load_results('mismatch{}_res.txt'.format('_1' * use_1))\n",
    "    weights = weights[:, [0, 2, 4]]\n",
    "    weights = np.exp(T * weights)\n",
    "    weights /= np.sum(weights, axis=0)[None, :]\n",
    "    \n",
    "    print(weights)\n",
    "    \n",
    "    Ks = None\n",
    "    for i in range(1, 1+len(weights)):\n",
    "        new_Ks = precomputed_kernels(k_spectrum_mismatch, 'mismatch{}_{}'.format('_1'*use_1, i), k=i)\n",
    "        w = weights[i-1]\n",
    "        \n",
    "        if Ks is None:\n",
    "            Ks = transform_kernels([new_Ks], lambda j, K: w[j] * K)\n",
    "        else:\n",
    "            Ks = transform_kernels([Ks, new_Ks], lambda j, K1, K2: K1 + w[j] * K2)\n",
    "        \n",
    "    return Ks"
   ]
  },
  {
   "cell_type": "code",
   "execution_count": 302,
   "metadata": {},
   "outputs": [
    {
     "name": "stdout",
     "output_type": "stream",
     "text": [
      "[[1.42823936e-06 1.03020922e-15 9.52181231e-12]\n",
      " [1.35157730e-04 3.04728598e-09 4.64359824e-05]\n",
      " [6.35147577e-03 5.82213048e-08 7.28261170e-05]\n",
      " [4.04987975e-03 9.57428793e-07 1.54172891e-04]\n",
      " [1.21665112e-02 8.21939061e-06 2.08111635e-04]\n",
      " [7.36031034e-02 2.72188835e-04 4.19085368e-04]\n",
      " [2.00073978e-01 6.04203450e-03 1.03078367e-03]\n",
      " [4.92102580e-01 5.45294429e-02 6.55559814e-03]\n",
      " [8.55146059e-02 1.72214500e-01 2.28812858e-02]\n",
      " [4.69314108e-02 5.71772276e-01 6.53867319e-02]\n",
      " [7.36031034e-02 1.48226394e-01 1.45520848e-01]\n",
      " [5.46676585e-03 4.69339265e-02 7.57724120e-01]]\n",
      "dataset: Validation 63.85 ± 0.00\t Train 95.44 ± 0.00\t C=1e+00\n",
      "dataset: Validation 79.35 ± 0.00\t Train 100.00 ± 0.00\t C=1e+01\n",
      "dataset: Validation 70.00 ± 0.00\t Train 99.42 ± 0.00\t C=1e+00\n",
      "total:   Validation 71.07 ± 0.00\t Train 98.29 ± 0.00\t\n"
     ]
    },
    {
     "data": {
      "text/plain": [
       "[array([0.6385    , 0.        , 0.95439474, 0.        ]),\n",
       " array([0.7935, 0.    , 1.    , 0.    ]),\n",
       " array([0.7       , 0.        , 0.99423684, 0.        ])]"
      ]
     },
     "execution_count": 302,
     "metadata": {},
     "output_type": "execute_result"
    }
   ],
   "source": [
    "svm_kernels(weighted_cum_mismatch(T=100, use_1=True), sksvm.SVC, kernel='precomputed')"
   ]
  },
  {
   "cell_type": "code",
   "execution_count": 307,
   "metadata": {},
   "outputs": [
    {
     "name": "stdout",
     "output_type": "stream",
     "text": [
      "[[1.42823936e-06 1.03020922e-15 9.52181231e-12]\n",
      " [1.35157730e-04 3.04728598e-09 4.64359824e-05]\n",
      " [6.35147577e-03 5.82213048e-08 7.28261170e-05]\n",
      " [4.04987975e-03 9.57428793e-07 1.54172891e-04]\n",
      " [1.21665112e-02 8.21939061e-06 2.08111635e-04]\n",
      " [7.36031034e-02 2.72188835e-04 4.19085368e-04]\n",
      " [2.00073978e-01 6.04203450e-03 1.03078367e-03]\n",
      " [4.92102580e-01 5.45294429e-02 6.55559814e-03]\n",
      " [8.55146059e-02 1.72214500e-01 2.28812858e-02]\n",
      " [4.69314108e-02 5.71772276e-01 6.53867319e-02]\n",
      " [7.36031034e-02 1.48226394e-01 1.45520848e-01]\n",
      " [5.46676585e-03 4.69339265e-02 7.57724120e-01]]\n",
      "dataset: Validation 63.55 ± 0.00\t Train 95.47 ± 0.00\t C=1e+00\n",
      "dataset: Validation 79.30 ± 0.00\t Train 100.00 ± 0.00\t C=1e+03\n",
      "dataset: Validation 70.20 ± 0.00\t Train 99.42 ± 0.00\t C=1e+00\n",
      "total:   Validation 71.02 ± 0.00\t Train 98.30 ± 0.00\t\n"
     ]
    },
    {
     "data": {
      "text/plain": [
       "[array([0.6355    , 0.        , 0.95473684, 0.        ]),\n",
       " array([0.793, 0.   , 1.   , 0.   ]),\n",
       " array([0.702     , 0.        , 0.99423684, 0.        ])]"
      ]
     },
     "execution_count": 307,
     "metadata": {},
     "output_type": "execute_result"
    }
   ],
   "source": [
    "svm_kernels(weighted_cum_mismatch(T=100, use_1=True), svm.SVCCoordinate, kernel='precomputed', intercept=1, loss='hinge')"
   ]
  },
  {
   "cell_type": "code",
   "execution_count": 303,
   "metadata": {},
   "outputs": [
    {
     "name": "stdout",
     "output_type": "stream",
     "text": [
      "[[1.73954632e-06 1.23435768e-14 1.25649989e-07]\n",
      " [1.73954632e-06 2.47287279e-12 8.42257067e-08]\n",
      " [9.93306474e-03 1.33971256e-07 6.84254547e-05]\n",
      " [4.23457925e-02 8.93405153e-06 1.44856689e-04]\n",
      " [1.90271911e-02 2.96620957e-05 5.04294190e-03]\n",
      " [2.10282982e-02 4.63993244e-04 9.21262398e-04]\n",
      " [3.63532632e-01 3.60425363e-03 3.21552172e-03]\n",
      " [3.28937928e-01 1.78058957e-01 1.59265833e-02]\n",
      " [6.98164088e-02 2.06874993e-01 3.91730740e-02]\n",
      " [5.71608410e-02 3.24444572e-01 2.76047987e-02]\n",
      " [7.33959726e-02 2.40354451e-01 4.53951163e-01]\n",
      " [1.48183913e-02 4.61600503e-02 4.53951163e-01]]\n",
      "dataset: Validation 63.50 ± 0.00\t Train 94.30 ± 0.00\t C=1e+00\n",
      "dataset: Validation 78.65 ± 0.00\t Train 100.00 ± 0.00\t C=1e+01\n",
      "dataset: Validation 68.75 ± 0.00\t Train 99.29 ± 0.00\t C=1e+00\n",
      "total:   Validation 70.30 ± 0.00\t Train 97.87 ± 0.00\t\n"
     ]
    },
    {
     "data": {
      "text/plain": [
       "[array([0.635     , 0.        , 0.94302632, 0.        ]),\n",
       " array([0.7865, 0.    , 1.    , 0.    ]),\n",
       " array([0.6875    , 0.        , 0.99294737, 0.        ])]"
      ]
     },
     "execution_count": 303,
     "metadata": {},
     "output_type": "execute_result"
    }
   ],
   "source": [
    "svm_kernels(weighted_cum_mismatch(T=100, use_1=False), sksvm.SVC, kernel='precomputed')"
   ]
  },
  {
   "cell_type": "markdown",
   "metadata": {},
   "source": [
    "# Summary"
   ]
  },
  {
   "cell_type": "code",
   "execution_count": 304,
   "metadata": {},
   "outputs": [
    {
     "data": {
      "image/png": "[encoded data removed]",
      "text/plain": [
       "<Figure size 720x720 with 1 Axes>"
      ]
     },
     "metadata": {},
     "output_type": "display_data"
    }
   ],
   "source": [
    "plt.figure(figsize=(10, 10))\n",
    "plot_results(\n",
    "    mismatch_1='mismatch_1_res.txt',\n",
    "    cumulative_mismatch_1='cum_mismatch_1_res.txt',\n",
    "    mismatch='mismatch_res.txt',\n",
    "    cumulative_mismatch='cum_mismatch_res.txt',\n",
    "    spectrum='spectrum_res.txt',\n",
    "    cumulative='cum_spectrum_res.txt',\n",
    "    show=False)\n",
    "plt.xlim(1, 11)\n",
    "plt.show()"
   ]
  },
  {
   "cell_type": "markdown",
   "metadata": {},
   "source": [
    "# Edit kernel"
   ]
  },
  {
   "cell_type": "code",
   "execution_count": 361,
   "metadata": {},
   "outputs": [],
   "source": [
    "def edit_distance():\n",
    "    with open('kernels/levenshtein_distance', 'rb') as src:\n",
    "        return transform_kernels([pickle.load(src)], lambda i, K: K.data)\n",
    "\n",
    "\n",
    "def edit_kernel(kernel='gaussian', scale=1, d=1):\n",
    "    edit_distances = edit_distance()\n",
    "    if kernel == 'gaussian':\n",
    "        return transform_kernels([edit_distances], lambda i, K: np.exp(-(K/scale) ** 2))\n",
    "    elif kernel == 'exp':\n",
    "        return transform_kernels([edit_distances], lambda i, K: np.exp(-K/scale))\n",
    "    elif kernel == 'polynomial':\n",
    "        return transform_kernels([edit_distances], lambda i, K: 1 / (1 + (K/scale) ** d))\n",
    "    else:\n",
    "        raise ValueError(\"Unknown kernel.\")"
   ]
  },
  {
   "cell_type": "markdown",
   "metadata": {},
   "source": [
    "## Exponential"
   ]
  },
  {
   "cell_type": "code",
   "execution_count": 384,
   "metadata": {},
   "outputs": [
    {
     "data": {
      "text/plain": [
       "0.0009772573"
      ]
     },
     "execution_count": 384,
     "metadata": {},
     "output_type": "execute_result"
    }
   ],
   "source": [
    "np.mean(edit_kernel(kernel='exp', scale=1)[0][2])"
   ]
  },
  {
   "cell_type": "code",
   "execution_count": 347,
   "metadata": {},
   "outputs": [
    {
     "name": "stdout",
     "output_type": "stream",
     "text": [
      "dataset: Validation 56.90 ± 0.00\t Train 100.00 ± 0.00\t C=1e+01\n",
      "dataset: Validation 69.90 ± 0.00\t Train 100.00 ± 0.00\t C=1e+03\n",
      "dataset: Validation 64.25 ± 0.00\t Train 100.00 ± 0.00\t C=1e+01\n",
      "total:   Validation 63.68 ± 0.00\t Train 100.00 ± 0.00\t\n",
      "Wall time: 15.1 s\n"
     ]
    },
    {
     "data": {
      "text/plain": [
       "[array([0.569, 0.   , 1.   , 0.   ]),\n",
       " array([0.699, 0.   , 1.   , 0.   ]),\n",
       " array([0.6425, 0.    , 1.    , 0.    ])]"
      ]
     },
     "execution_count": 347,
     "metadata": {},
     "output_type": "execute_result"
    }
   ],
   "source": [
    "%time _ = svm_kernels(edit_kernel(kernel='exp', scale=1), sksvm.SVC, kernel='precomputed')"
   ]
  },
  {
   "cell_type": "markdown",
   "metadata": {},
   "source": [
    "## Gaussian"
   ]
  },
  {
   "cell_type": "code",
   "execution_count": 357,
   "metadata": {},
   "outputs": [
    {
     "name": "stdout",
     "output_type": "stream",
     "text": [
      "Scale 2.5\n",
      "dataset: Validation 57.50 ± 0.00\t Train 97.23 ± 0.00\t C=1e+00\n",
      "dataset: Validation 69.75 ± 0.00\t Train 100.00 ± 0.00\t C=1e+01\n",
      "dataset: Validation 64.75 ± 0.00\t Train 99.26 ± 0.00\t C=1e+00\n",
      "total:   Validation 64.00 ± 0.00\t Train 98.83 ± 0.00\t\n",
      "Scale 2.75\n",
      "dataset: Validation 57.80 ± 0.00\t Train 96.92 ± 0.00\t C=1e+00\n",
      "dataset: Validation 69.85 ± 0.00\t Train 100.00 ± 0.00\t C=1e+00\n",
      "dataset: Validation 64.25 ± 0.00\t Train 99.11 ± 0.00\t C=1e+00\n",
      "total:   Validation 63.97 ± 0.00\t Train 98.68 ± 0.00\t\n",
      "Scale 3.0\n",
      "dataset: Validation 58.00 ± 0.00\t Train 96.61 ± 0.00\t C=1e+00\n",
      "dataset: Validation 69.60 ± 0.00\t Train 100.00 ± 0.00\t C=1e+02\n",
      "dataset: Validation 63.35 ± 0.00\t Train 99.05 ± 0.00\t C=1e+00\n",
      "total:   Validation 63.65 ± 0.00\t Train 98.55 ± 0.00\t\n",
      "Scale 3.25\n",
      "dataset: Validation 58.25 ± 0.00\t Train 96.29 ± 0.00\t C=1e+00\n",
      "dataset: Validation 70.35 ± 0.00\t Train 99.99 ± 0.00\t C=1e+00\n",
      "dataset: Validation 64.00 ± 0.00\t Train 98.98 ± 0.00\t C=1e+00\n",
      "total:   Validation 64.20 ± 0.00\t Train 98.42 ± 0.00\t\n",
      "Scale 3.5\n",
      "dataset: Validation 57.90 ± 0.00\t Train 95.84 ± 0.00\t C=1e+00\n",
      "dataset: Validation 67.90 ± 0.00\t Train 99.99 ± 0.00\t C=1e+00\n",
      "dataset: Validation 63.85 ± 0.00\t Train 98.86 ± 0.00\t C=1e+00\n",
      "total:   Validation 63.22 ± 0.00\t Train 98.23 ± 0.00\t\n"
     ]
    }
   ],
   "source": [
    "for scale in np.linspace(2.5, 3.5, 5):\n",
    "    print(\"Scale\", scale)\n",
    "    svm_kernels(edit_kernel(kernel='gaussian', scale=scale), sksvm.SVC, kernel='precomputed')"
   ]
  },
  {
   "cell_type": "code",
   "execution_count": 362,
   "metadata": {},
   "outputs": [
    {
     "name": "stdout",
     "output_type": "stream",
     "text": [
      "dataset: Validation 57.80 ± 0.00\t Train 96.26 ± 0.00\t C=1e+00\n",
      "dataset: Validation 70.60 ± 0.00\t Train 99.99 ± 0.00\t C=1e+00\n",
      "dataset: Validation 63.95 ± 0.00\t Train 98.98 ± 0.00\t C=1e+00\n",
      "total:   Validation 64.12 ± 0.00\t Train 98.41 ± 0.00\t\n"
     ]
    }
   ],
   "source": [
    "_ = svm_kernels(edit_kernel(kernel='gaussian', scale=3.25), sksvm.SVC, kernel='precomputed')"
   ]
  },
  {
   "cell_type": "markdown",
   "metadata": {},
   "source": [
    "## Polynomial"
   ]
  },
  {
   "cell_type": "code",
   "execution_count": 371,
   "metadata": {},
   "outputs": [
    {
     "name": "stdout",
     "output_type": "stream",
     "text": [
      "dataset: Validation 55.95 ± 0.00\t Train 100.00 ± 0.00\t C=1e+03\n",
      "dataset: Validation 69.85 ± 0.00\t Train 100.00 ± 0.00\t C=1e+02\n",
      "dataset: Validation 61.40 ± 0.00\t Train 100.00 ± 0.00\t C=1e+02\n",
      "total:   Validation 62.40 ± 0.00\t Train 100.00 ± 0.00\t\n"
     ]
    }
   ],
   "source": [
    "_ = svm_kernels(edit_kernel(kernel='polynomial', scale=0.1, d=1), sksvm.SVC, kernel='precomputed')"
   ]
  },
  {
   "cell_type": "code",
   "execution_count": 375,
   "metadata": {},
   "outputs": [
    {
     "name": "stdout",
     "output_type": "stream",
     "text": [
      "d 0.5\n",
      "dataset: Validation 55.95 ± 0.00\t Train 100.00 ± 0.00\t C=1e+01\n",
      "dataset: Validation 68.70 ± 0.00\t Train 100.00 ± 0.00\t C=1e+02\n",
      "dataset: Validation 59.30 ± 0.00\t Train 100.00 ± 0.00\t C=1e+03\n",
      "total:   Validation 61.32 ± 0.00\t Train 100.00 ± 0.00\t\n",
      "d 0.625\n",
      "dataset: Validation 55.85 ± 0.00\t Train 100.00 ± 0.00\t C=1e+03\n",
      "dataset: Validation 69.95 ± 0.00\t Train 100.00 ± 0.00\t C=1e+00\n",
      "dataset: Validation 60.45 ± 0.00\t Train 100.00 ± 0.00\t C=1e+03\n",
      "total:   Validation 62.08 ± 0.00\t Train 100.00 ± 0.00\t\n",
      "d 0.75\n",
      "dataset: Validation 56.20 ± 0.00\t Train 100.00 ± 0.00\t C=1e+03\n",
      "dataset: Validation 69.95 ± 0.00\t Train 100.00 ± 0.00\t C=1e+01\n",
      "dataset: Validation 60.40 ± 0.00\t Train 100.00 ± 0.00\t C=1e+03\n",
      "total:   Validation 62.18 ± 0.00\t Train 100.00 ± 0.00\t\n",
      "d 0.875\n",
      "dataset: Validation 55.90 ± 0.00\t Train 100.00 ± 0.00\t C=1e+02\n",
      "dataset: Validation 70.05 ± 0.00\t Train 100.00 ± 0.00\t C=1e+03\n",
      "dataset: Validation 61.40 ± 0.00\t Train 100.00 ± 0.00\t C=1e+02\n",
      "total:   Validation 62.45 ± 0.00\t Train 100.00 ± 0.00\t\n",
      "d 1.0\n",
      "dataset: Validation 56.45 ± 0.00\t Train 100.00 ± 0.00\t C=1e+02\n",
      "dataset: Validation 68.90 ± 0.00\t Train 100.00 ± 0.00\t C=1e+00\n",
      "dataset: Validation 61.40 ± 0.00\t Train 100.00 ± 0.00\t C=1e+03\n",
      "total:   Validation 62.25 ± 0.00\t Train 100.00 ± 0.00\t\n"
     ]
    }
   ],
   "source": [
    "for d in np.linspace(0.5, 1., 5):\n",
    "    print(\"d\", d)\n",
    "    svm_kernels(edit_kernel(kernel='polynomial', scale=0.1, d=d), sksvm.SVC, kernel='precomputed')"
   ]
  },
  {
   "cell_type": "code",
   "execution_count": 378,
   "metadata": {},
   "outputs": [
    {
     "name": "stdout",
     "output_type": "stream",
     "text": [
      "scale 0.01\n",
      "dataset: Validation 53.10 ± 0.00\t Train 100.00 ± 0.00\t C=1e+01\n",
      "dataset: Validation 68.95 ± 0.00\t Train 100.00 ± 0.00\t C=1e+01\n",
      "dataset: Validation 60.20 ± 0.00\t Train 100.00 ± 0.00\t C=1e+01\n",
      "total:   Validation 60.75 ± 0.00\t Train 100.00 ± 0.00\t\n",
      "scale 0.12\n",
      "dataset: Validation 55.70 ± 0.00\t Train 100.00 ± 0.00\t C=1e+03\n",
      "dataset: Validation 70.10 ± 0.00\t Train 100.00 ± 0.00\t C=1e+02\n",
      "dataset: Validation 60.90 ± 0.00\t Train 100.00 ± 0.00\t C=1e+01\n",
      "total:   Validation 62.23 ± 0.00\t Train 100.00 ± 0.00\t\n",
      "scale 0.23\n",
      "dataset: Validation 56.00 ± 0.00\t Train 100.00 ± 0.00\t C=1e+02\n",
      "dataset: Validation 70.00 ± 0.00\t Train 100.00 ± 0.00\t C=1e+00\n",
      "dataset: Validation 60.30 ± 0.00\t Train 99.96 ± 0.00\t C=1e+00\n",
      "total:   Validation 62.10 ± 0.00\t Train 99.99 ± 0.00\t\n",
      "scale 0.34\n",
      "dataset: Validation 55.50 ± 0.00\t Train 99.66 ± 0.00\t C=1e+00\n",
      "dataset: Validation 68.70 ± 0.00\t Train 100.00 ± 0.00\t C=1e+02\n",
      "dataset: Validation 60.80 ± 0.00\t Train 99.80 ± 0.00\t C=1e+00\n",
      "total:   Validation 61.67 ± 0.00\t Train 99.82 ± 0.00\t\n",
      "scale 0.45\n",
      "dataset: Validation 55.80 ± 0.00\t Train 99.34 ± 0.00\t C=1e+00\n",
      "dataset: Validation 70.00 ± 0.00\t Train 100.00 ± 0.00\t C=1e+00\n",
      "dataset: Validation 60.45 ± 0.00\t Train 99.59 ± 0.00\t C=1e+00\n",
      "total:   Validation 62.08 ± 0.00\t Train 99.64 ± 0.00\t\n",
      "scale 0.56\n",
      "dataset: Validation 55.65 ± 0.00\t Train 100.00 ± 0.00\t C=1e+01\n",
      "dataset: Validation 69.90 ± 0.00\t Train 100.00 ± 0.00\t C=1e+00\n",
      "dataset: Validation 59.90 ± 0.00\t Train 99.39 ± 0.00\t C=1e+00\n",
      "total:   Validation 61.82 ± 0.00\t Train 99.80 ± 0.00\t\n",
      "scale 0.67\n",
      "dataset: Validation 54.65 ± 0.00\t Train 100.00 ± 0.00\t C=1e+01\n",
      "dataset: Validation 66.10 ± 0.00\t Train 100.00 ± 0.00\t C=1e+02\n",
      "dataset: Validation 60.15 ± 0.00\t Train 99.16 ± 0.00\t C=1e+00\n",
      "total:   Validation 60.30 ± 0.00\t Train 99.72 ± 0.00\t\n",
      "scale 0.78\n",
      "dataset: Validation 55.60 ± 0.00\t Train 98.53 ± 0.00\t C=1e+00\n",
      "dataset: Validation 68.90 ± 0.00\t Train 99.97 ± 0.00\t C=1e+00\n",
      "dataset: Validation 59.25 ± 0.00\t Train 98.91 ± 0.00\t C=1e+00\n",
      "total:   Validation 61.25 ± 0.00\t Train 99.13 ± 0.00\t\n",
      "scale 0.89\n",
      "dataset: Validation 55.30 ± 0.00\t Train 98.18 ± 0.00\t C=1e+00\n",
      "dataset: Validation 68.65 ± 0.00\t Train 99.90 ± 0.00\t C=1e+00\n",
      "dataset: Validation 59.95 ± 0.00\t Train 98.73 ± 0.00\t C=1e+00\n",
      "total:   Validation 61.30 ± 0.00\t Train 98.94 ± 0.00\t\n",
      "scale 1.0\n",
      "dataset: Validation 55.35 ± 0.00\t Train 97.81 ± 0.00\t C=1e+00\n",
      "dataset: Validation 67.60 ± 0.00\t Train 99.79 ± 0.00\t C=1e+00\n",
      "dataset: Validation 59.20 ± 0.00\t Train 98.47 ± 0.00\t C=1e+00\n",
      "total:   Validation 60.72 ± 0.00\t Train 98.69 ± 0.00\t\n"
     ]
    }
   ],
   "source": [
    "for scale in np.linspace(0.01, 1, 10):\n",
    "    print(\"scale\", scale)\n",
    "    svm_kernels(edit_kernel(kernel='polynomial', scale=scale, d=0.8), sksvm.SVC, kernel='precomputed')"
   ]
  },
  {
   "cell_type": "code",
   "execution_count": 420,
   "metadata": {},
   "outputs": [
    {
     "name": "stdout",
     "output_type": "stream",
     "text": [
      "dataset: Validation 56.25 ± 0.00\t Train 100.00 ± 0.00\t C=1e+02\n",
      "dataset: Validation 68.95 ± 0.00\t Train 100.00 ± 0.00\t C=1e+00\n",
      "dataset: Validation 60.45 ± 0.00\t Train 99.50 ± 0.00\t C=1e+00\n",
      "total:   Validation 61.88 ± 0.00\t Train 99.83 ± 0.00\t\n",
      "Wall time: 16.1 s\n"
     ]
    }
   ],
   "source": [
    "%time _ = svm_kernels(edit_kernel(kernel='polynomial', scale=0.5, d=0.8), sksvm.SVC, kernel='precomputed')"
   ]
  },
  {
   "cell_type": "markdown",
   "metadata": {},
   "source": [
    "**Best edit kernel: Gaussian; Scale 3.25**"
   ]
  },
  {
   "cell_type": "markdown",
   "metadata": {},
   "source": [
    "# FINAL SUBMISSION"
   ]
  },
  {
   "cell_type": "markdown",
   "metadata": {},
   "source": [
    "## Evaluating single kernels"
   ]
  },
  {
   "cell_type": "markdown",
   "metadata": {},
   "source": [
    "### List of single kernels"
   ]
  },
  {
   "cell_type": "code",
   "execution_count": 442,
   "metadata": {},
   "outputs": [],
   "source": [
    "kernels = dict()"
   ]
  },
  {
   "cell_type": "markdown",
   "metadata": {},
   "source": [
    "**Spectrum kernels**"
   ]
  },
  {
   "cell_type": "code",
   "execution_count": 443,
   "metadata": {},
   "outputs": [],
   "source": [
    "for k in range(1, 40):\n",
    "    name = 'spectrum_{}'.format(k)\n",
    "    kernels[name] = (precomputed_kernels, dict(kernel=k_spectrum, name=name, k=k))"
   ]
  },
  {
   "cell_type": "markdown",
   "metadata": {},
   "source": [
    "** Mismatch kernels **"
   ]
  },
  {
   "cell_type": "code",
   "execution_count": 444,
   "metadata": {},
   "outputs": [],
   "source": [
    "for k in range(1, 13):\n",
    "    name = 'mismatch_1_{}'.format(k)\n",
    "    kernels[name] = (precomputed_kernels, dict(kernel=k_spectrum_mismatch, name=name, k=k, decay=1))"
   ]
  },
  {
   "cell_type": "markdown",
   "metadata": {},
   "source": [
    "**Edit kernel**"
   ]
  },
  {
   "cell_type": "code",
   "execution_count": 445,
   "metadata": {},
   "outputs": [],
   "source": [
    "kernels['edit_gaussian'] = (edit_kernel, dict(kernel='gaussian', scale=3.25)) "
   ]
  },
  {
   "cell_type": "code",
   "execution_count": 446,
   "metadata": {},
   "outputs": [
    {
     "name": "stdout",
     "output_type": "stream",
     "text": [
      "52\n"
     ]
    }
   ],
   "source": [
    "print(len(kernels))"
   ]
  },
  {
   "cell_type": "markdown",
   "metadata": {},
   "source": [
    "### Evaluation"
   ]
  },
  {
   "cell_type": "code",
   "execution_count": 447,
   "metadata": {},
   "outputs": [],
   "source": [
    "def separate_evaluation(kernels, file='separate_kernels', repeats=3, model=svm.SVCCoordinate, **params):\n",
    "    try:\n",
    "        with open(file, 'rb') as src:\n",
    "            results = pickle.load(src)\n",
    "    except FileNotFoundError:\n",
    "        results = dict()\n",
    "    \n",
    "    t0 = time.time()\n",
    "    for kernel in kernels:\n",
    "        if kernel in results:\n",
    "            continue\n",
    "        print(\"Evaluating kernel {}:\".format(kernel))\n",
    "        t = time.time()\n",
    "        \n",
    "        # Kernel function and parameters.\n",
    "        kernel_f, kernel_params = kernels[kernel]\n",
    "        \n",
    "        # Evaluates the kernel.\n",
    "        results[kernel] = svm_kernels(kernel_f(**kernel_params), model=model, repeats=repeats, **params)\n",
    "        \n",
    "        # Saves the results.\n",
    "        with open(file, 'wb') as dst:\n",
    "            pickle.dump(results, dst)\n",
    "        print(\"Duration {:.1f}s\\n\".format(time.time() - t))\n",
    "    \n",
    "    print(\"Total time: {:.1f}s\".format(time.time() - t0))"
   ]
  },
  {
   "cell_type": "code",
   "execution_count": 448,
   "metadata": {},
   "outputs": [
    {
     "name": "stdout",
     "output_type": "stream",
     "text": [
      "Evaluating kernel spectrum_1:\n",
      "dataset: Validation 51.15 ± 0.00\t Train 51.15 ± 0.00\t C=1e-01\n",
      "dataset: Validation 51.03 ± 0.39\t Train 52.09 ± 0.04\t C=1e+02\n",
      "dataset: Validation 55.37 ± 0.19\t Train 55.67 ± 0.01\t C=1e+02\n",
      "total:   Validation 52.52 ± 0.19\t Train 52.97 ± 0.02\t\n",
      "Duration 44.2s\n",
      "\n",
      "Evaluating kernel spectrum_2:\n",
      "dataset: Validation 55.82 ± 0.27\t Train 58.16 ± 0.11\t C=1e+03\n",
      "dataset: Validation 60.70 ± 0.36\t Train 61.89 ± 0.02\t C=1e+03\n",
      "dataset: Validation 61.17 ± 0.27\t Train 62.13 ± 0.04\t C=1e+02\n",
      "total:   Validation 59.23 ± 0.30\t Train 60.73 ± 0.06\t\n",
      "Duration 84.1s\n",
      "\n",
      "Evaluating kernel spectrum_3:\n",
      "dataset: Validation 59.88 ± 0.25\t Train 64.05 ± 0.01\t C=1e+01\n",
      "dataset: Validation 63.58 ± 0.27\t Train 65.99 ± 0.06\t C=1e+00\n",
      "dataset: Validation 60.68 ± 0.12\t Train 63.96 ± 0.08\t C=1e+01\n",
      "total:   Validation 61.38 ± 0.21\t Train 64.66 ± 0.05\t\n",
      "Duration 75.4s\n",
      "\n",
      "Evaluating kernel spectrum_4:\n",
      "dataset: Validation 60.03 ± 0.27\t Train 68.51 ± 0.10\t C=1e+00\n",
      "dataset: Validation 66.98 ± 0.45\t Train 74.51 ± 0.10\t C=1e+01\n",
      "dataset: Validation 62.57 ± 0.32\t Train 69.61 ± 0.08\t C=1e+00\n",
      "total:   Validation 63.19 ± 0.35\t Train 70.87 ± 0.09\t\n",
      "Duration 290.8s\n",
      "\n",
      "Evaluating kernel spectrum_5:\n",
      "dataset: Validation 61.87 ± 0.37\t Train 78.51 ± 0.04\t C=1e+00\n",
      "dataset: Validation 69.00 ± 0.33\t Train 83.33 ± 0.01\t C=1e+00\n",
      "dataset: Validation 62.88 ± 0.57\t Train 78.59 ± 0.07\t C=1e+00\n",
      "total:   Validation 64.58 ± 0.42\t Train 80.15 ± 0.04\t\n",
      "Duration 118.9s\n",
      "\n",
      "Evaluating kernel spectrum_6:\n",
      "dataset: Validation 62.00 ± 0.11\t Train 88.61 ± 0.05\t C=1e+00\n",
      "dataset: Validation 73.37 ± 0.13\t Train 93.15 ± 0.03\t C=1e+00\n",
      "dataset: Validation 62.88 ± 0.26\t Train 89.31 ± 0.06\t C=1e+00\n",
      "total:   Validation 66.08 ± 0.17\t Train 90.35 ± 0.04\t\n",
      "Duration 42.9s\n",
      "\n",
      "Evaluating kernel spectrum_7:\n",
      "dataset: Validation 61.73 ± 0.27\t Train 95.81 ± 0.01\t C=1e+00\n",
      "dataset: Validation 74.97 ± 0.43\t Train 98.33 ± 0.02\t C=1e+00\n",
      "dataset: Validation 64.03 ± 0.37\t Train 100.00 ± 0.00\t C=1e+03\n",
      "total:   Validation 66.91 ± 0.35\t Train 98.05 ± 0.01\t\n",
      "Duration 45.9s\n",
      "\n",
      "Evaluating kernel spectrum_8:\n",
      "dataset: Validation 59.93 ± 0.14\t Train 100.00 ± 0.00\t C=1e+01\n",
      "dataset: Validation 75.67 ± 0.08\t Train 99.77 ± 0.00\t C=1e+00\n",
      "dataset: Validation 66.47 ± 0.31\t Train 98.86 ± 0.01\t C=1e+00\n",
      "total:   Validation 67.36 ± 0.18\t Train 99.55 ± 0.00\t\n",
      "Duration 42.4s\n",
      "\n",
      "Evaluating kernel spectrum_9:\n",
      "dataset: Validation 59.72 ± 0.38\t Train 98.11 ± 0.01\t C=1e+00\n",
      "dataset: Validation 75.97 ± 0.22\t Train 100.00 ± 0.00\t C=1e+01\n",
      "dataset: Validation 67.13 ± 0.33\t Train 99.13 ± 0.00\t C=1e+00\n",
      "total:   Validation 67.61 ± 0.31\t Train 99.08 ± 0.00\t\n",
      "Duration 40.4s\n",
      "\n",
      "Evaluating kernel spectrum_10:\n",
      "dataset: Validation 58.23 ± 0.30\t Train 100.00 ± 0.00\t C=1e+03\n",
      "dataset: Validation 75.87 ± 0.50\t Train 100.00 ± 0.00\t C=1e+02\n",
      "dataset: Validation 69.32 ± 0.05\t Train 99.35 ± 0.01\t C=1e+00\n",
      "total:   Validation 67.81 ± 0.28\t Train 99.78 ± 0.00\t\n",
      "Duration 41.6s\n",
      "\n",
      "Evaluating kernel spectrum_11:\n",
      "dataset: Validation 59.53 ± 0.20\t Train 100.00 ± 0.00\t C=1e+03\n",
      "dataset: Validation 75.98 ± 0.18\t Train 100.00 ± 0.00\t C=1e+03\n",
      "dataset: Validation 70.07 ± 0.08\t Train 99.58 ± 0.01\t C=1e+00\n",
      "total:   Validation 68.53 ± 0.16\t Train 99.86 ± 0.00\t\n",
      "Duration 41.8s\n",
      "\n",
      "Evaluating kernel spectrum_12:\n",
      "dataset: Validation 58.40 ± 0.04\t Train 98.95 ± 0.02\t C=1e+00\n",
      "dataset: Validation 74.20 ± 0.14\t Train 100.00 ± 0.00\t C=1e+01\n",
      "dataset: Validation 69.98 ± 0.22\t Train 100.00 ± 0.00\t C=1e+02\n",
      "total:   Validation 67.53 ± 0.14\t Train 99.65 ± 0.01\t\n",
      "Duration 40.7s\n",
      "\n",
      "Evaluating kernel spectrum_13:\n",
      "dataset: Validation 57.83 ± 0.06\t Train 99.09 ± 0.00\t C=1e+00\n",
      "dataset: Validation 73.55 ± 0.12\t Train 100.00 ± 0.00\t C=1e+02\n",
      "dataset: Validation 69.78 ± 0.21\t Train 100.00 ± 0.00\t C=1e+01\n",
      "total:   Validation 67.06 ± 0.13\t Train 99.70 ± 0.00\t\n",
      "Duration 41.5s\n",
      "\n",
      "Evaluating kernel spectrum_14:\n",
      "dataset: Validation 57.65 ± 0.19\t Train 100.00 ± 0.00\t C=1e+02\n",
      "dataset: Validation 72.53 ± 0.12\t Train 100.00 ± 0.00\t C=1e+00\n",
      "dataset: Validation 69.63 ± 0.06\t Train 100.00 ± 0.00\t C=1e+01\n",
      "total:   Validation 66.61 ± 0.12\t Train 100.00 ± 0.00\t\n",
      "Duration 41.9s\n",
      "\n",
      "Evaluating kernel spectrum_15:\n",
      "dataset: Validation 57.43 ± 0.16\t Train 99.37 ± 0.00\t C=1e+00\n",
      "dataset: Validation 73.18 ± 0.08\t Train 100.00 ± 0.00\t C=1e+02\n",
      "dataset: Validation 69.12 ± 0.25\t Train 100.00 ± 0.00\t C=1e+03\n",
      "total:   Validation 66.58 ± 0.17\t Train 99.79 ± 0.00\t\n",
      "Duration 42.5s\n",
      "\n",
      "Evaluating kernel spectrum_16:\n",
      "dataset: Validation 57.52 ± 0.08\t Train 99.46 ± 0.00\t C=1e+00\n",
      "dataset: Validation 72.92 ± 0.13\t Train 100.00 ± 0.00\t C=1e+03\n",
      "dataset: Validation 69.37 ± 0.18\t Train 100.00 ± 0.00\t C=1e+03\n",
      "total:   Validation 66.60 ± 0.13\t Train 99.82 ± 0.00\t\n",
      "Duration 44.8s\n",
      "\n",
      "Evaluating kernel spectrum_17:\n",
      "dataset: Validation 57.45 ± 0.14\t Train 99.57 ± 0.01\t C=1e+00\n",
      "dataset: Validation 72.85 ± 0.31\t Train 100.00 ± 0.00\t C=1e+03\n",
      "dataset: Validation 69.05 ± 0.04\t Train 100.00 ± 0.00\t C=1e+03\n",
      "total:   Validation 66.45 ± 0.16\t Train 99.86 ± 0.00\t\n",
      "Duration 42.4s\n",
      "\n",
      "Evaluating kernel spectrum_18:\n",
      "dataset: Validation 57.27 ± 0.02\t Train 99.61 ± 0.01\t C=1e+00\n",
      "dataset: Validation 72.93 ± 0.19\t Train 100.00 ± 0.00\t C=1e+02\n",
      "dataset: Validation 68.93 ± 0.19\t Train 100.00 ± 0.00\t C=1e+01\n",
      "total:   Validation 66.38 ± 0.14\t Train 99.87 ± 0.00\t\n",
      "Duration 40.7s\n",
      "\n",
      "Evaluating kernel spectrum_19:\n",
      "dataset: Validation 56.97 ± 0.13\t Train 100.00 ± 0.00\t C=1e+02\n",
      "dataset: Validation 72.77 ± 0.38\t Train 100.00 ± 0.00\t C=1e+03\n",
      "dataset: Validation 68.57 ± 0.30\t Train 100.00 ± 0.00\t C=1e+01\n",
      "total:   Validation 66.10 ± 0.27\t Train 100.00 ± 0.00\t\n",
      "Duration 42.4s\n",
      "\n",
      "Evaluating kernel spectrum_20:\n",
      "dataset: Validation 56.85 ± 0.29\t Train 100.00 ± 0.00\t C=1e+01\n",
      "dataset: Validation 72.52 ± 0.17\t Train 100.00 ± 0.00\t C=1e+03\n",
      "dataset: Validation 68.45 ± 0.11\t Train 100.00 ± 0.00\t C=1e+01\n",
      "total:   Validation 65.94 ± 0.19\t Train 100.00 ± 0.00\t\n",
      "Duration 41.9s\n",
      "\n",
      "Evaluating kernel spectrum_21:\n",
      "dataset: Validation 57.03 ± 0.05\t Train 100.00 ± 0.00\t C=1e+02\n",
      "dataset: Validation 71.80 ± 0.29\t Train 100.00 ± 0.00\t C=1e+00\n",
      "dataset: Validation 68.12 ± 0.38\t Train 100.00 ± 0.00\t C=1e+01\n",
      "total:   Validation 65.65 ± 0.24\t Train 100.00 ± 0.00\t\n",
      "Duration 44.5s\n",
      "\n",
      "Evaluating kernel spectrum_22:\n",
      "dataset: Validation 56.88 ± 0.06\t Train 100.00 ± 0.00\t C=1e+01\n",
      "dataset: Validation 72.47 ± 0.21\t Train 100.00 ± 0.00\t C=1e+01\n",
      "dataset: Validation 68.25 ± 0.12\t Train 100.00 ± 0.00\t C=1e+01\n",
      "total:   Validation 65.87 ± 0.13\t Train 100.00 ± 0.00\t\n",
      "Duration 44.4s\n",
      "\n",
      "Evaluating kernel spectrum_23:\n",
      "dataset: Validation 56.13 ± 0.42\t Train 100.00 ± 0.00\t C=1e+02\n",
      "dataset: Validation 72.30 ± 0.11\t Train 100.00 ± 0.00\t C=1e+00\n",
      "dataset: Validation 68.12 ± 0.09\t Train 100.00 ± 0.00\t C=1e+02\n",
      "total:   Validation 65.52 ± 0.21\t Train 100.00 ± 0.00\t\n",
      "Duration 43.8s\n",
      "\n",
      "Evaluating kernel spectrum_24:\n",
      "dataset: Validation 54.92 ± 0.84\t Train 100.00 ± 0.00\t C=1e+01\n",
      "dataset: Validation 72.48 ± 0.14\t Train 100.00 ± 0.00\t C=1e+01\n",
      "dataset: Validation 67.53 ± 0.21\t Train 100.00 ± 0.00\t C=1e+02\n",
      "total:   Validation 64.98 ± 0.40\t Train 100.00 ± 0.00\t\n",
      "Duration 43.9s\n",
      "\n",
      "Evaluating kernel spectrum_25:\n",
      "dataset: Validation 52.02 ± 0.25\t Train 100.00 ± 0.00\t C=1e+03\n",
      "dataset: Validation 72.70 ± 0.08\t Train 100.00 ± 0.00\t C=1e+01\n",
      "dataset: Validation 67.12 ± 0.19\t Train 100.00 ± 0.00\t C=1e+02\n",
      "total:   Validation 63.94 ± 0.17\t Train 100.00 ± 0.00\t\n",
      "Duration 43.7s\n",
      "\n",
      "Evaluating kernel spectrum_26:\n",
      "dataset: Validation 50.97 ± 0.22\t Train 99.92 ± 0.01\t C=1e+00\n",
      "dataset: Validation 72.30 ± 0.33\t Train 100.00 ± 0.00\t C=1e+00\n",
      "dataset: Validation 67.35 ± 0.22\t Train 100.00 ± 0.00\t C=1e+03\n",
      "total:   Validation 63.54 ± 0.26\t Train 99.97 ± 0.00\t\n",
      "Duration 44.0s\n",
      "\n",
      "Evaluating kernel spectrum_27:\n",
      "dataset: Validation 51.02 ± 0.35\t Train 100.00 ± 0.00\t C=1e+01\n",
      "dataset: Validation 72.30 ± 0.04\t Train 100.00 ± 0.00\t C=1e+03\n",
      "dataset: Validation 67.23 ± 0.31\t Train 100.00 ± 0.00\t C=1e+01\n",
      "total:   Validation 63.52 ± 0.23\t Train 100.00 ± 0.00\t\n",
      "Duration 43.9s\n",
      "\n",
      "Evaluating kernel spectrum_28:\n",
      "dataset: Validation 52.42 ± 0.17\t Train 99.96 ± 0.00\t C=1e+00\n",
      "dataset: Validation 72.43 ± 0.33\t Train 100.00 ± 0.00\t C=1e+01\n",
      "dataset: Validation 67.05 ± 0.19\t Train 100.00 ± 0.00\t C=1e+02\n",
      "total:   Validation 63.97 ± 0.23\t Train 99.99 ± 0.00\t\n",
      "Duration 43.5s\n",
      "\n",
      "Evaluating kernel spectrum_29:\n",
      "dataset: Validation 51.48 ± 0.31\t Train 100.00 ± 0.00\t C=1e+01\n",
      "dataset: Validation 72.42 ± 0.26\t Train 100.00 ± 0.00\t C=1e+02\n",
      "dataset: Validation 67.20 ± 0.23\t Train 100.00 ± 0.00\t C=1e+02\n",
      "total:   Validation 63.70 ± 0.26\t Train 100.00 ± 0.00\t\n",
      "Duration 44.7s\n",
      "\n",
      "Evaluating kernel spectrum_30:\n",
      "dataset: Validation 51.15 ± 0.00\t Train 51.15 ± 0.00\t C=1e-03\n",
      "dataset: Validation 72.47 ± 0.12\t Train 100.00 ± 0.00\t C=1e+02\n",
      "dataset: Validation 66.87 ± 0.12\t Train 100.00 ± 0.00\t C=1e+01\n",
      "total:   Validation 63.49 ± 0.08\t Train 83.72 ± 0.00\t\n",
      "Duration 44.8s\n",
      "\n",
      "Evaluating kernel spectrum_31:\n",
      "dataset: Validation 51.60 ± 0.35\t Train 100.00 ± 0.00\t C=1e+02\n",
      "dataset: Validation 72.28 ± 0.20\t Train 100.00 ± 0.00\t C=1e+02\n",
      "dataset: Validation 66.87 ± 0.02\t Train 100.00 ± 0.00\t C=1e+01\n",
      "total:   Validation 63.58 ± 0.19\t Train 100.00 ± 0.00\t\n",
      "Duration 42.2s\n",
      "\n",
      "Evaluating kernel spectrum_32:\n",
      "dataset: Validation 52.10 ± 0.07\t Train 100.00 ± 0.00\t C=1e+00\n",
      "dataset: Validation 72.37 ± 0.12\t Train 100.00 ± 0.00\t C=1e+01\n",
      "dataset: Validation 66.90 ± 0.35\t Train 100.00 ± 0.00\t C=1e+02\n",
      "total:   Validation 63.79 ± 0.18\t Train 100.00 ± 0.00\t\n",
      "Duration 44.1s\n",
      "\n",
      "Evaluating kernel spectrum_33:\n",
      "dataset: Validation 51.98 ± 0.08\t Train 100.00 ± 0.00\t C=1e+03\n",
      "dataset: Validation 72.20 ± 0.08\t Train 100.00 ± 0.00\t C=1e+02\n",
      "dataset: Validation 66.73 ± 0.21\t Train 100.00 ± 0.00\t C=1e+02\n",
      "total:   Validation 63.64 ± 0.13\t Train 100.00 ± 0.00\t\n",
      "Duration 43.9s\n",
      "\n",
      "Evaluating kernel spectrum_34:\n",
      "dataset: Validation 51.95 ± 0.04\t Train 100.00 ± 0.00\t C=1e+00\n",
      "dataset: Validation 71.30 ± 0.23\t Train 100.00 ± 0.00\t C=1e+00\n",
      "dataset: Validation 66.45 ± 0.18\t Train 100.00 ± 0.00\t C=1e+02\n",
      "total:   Validation 63.23 ± 0.15\t Train 100.00 ± 0.00\t\n",
      "Duration 45.3s\n",
      "\n",
      "Evaluating kernel spectrum_35:\n",
      "dataset: Validation 51.88 ± 0.08\t Train 100.00 ± 0.00\t C=1e+00\n",
      "dataset: Validation 72.22 ± 0.10\t Train 100.00 ± 0.00\t C=1e+01\n",
      "dataset: Validation 65.85 ± 0.25\t Train 100.00 ± 0.00\t C=1e+02\n",
      "total:   Validation 63.32 ± 0.15\t Train 100.00 ± 0.00\t\n",
      "Duration 42.7s\n",
      "\n",
      "Evaluating kernel spectrum_36:\n",
      "dataset: Validation 51.85 ± 0.04\t Train 100.00 ± 0.00\t C=1e+03\n",
      "dataset: Validation 71.85 ± 0.25\t Train 100.00 ± 0.00\t C=1e+02\n",
      "dataset: Validation 65.92 ± 0.16\t Train 100.00 ± 0.00\t C=1e+02\n",
      "total:   Validation 63.21 ± 0.15\t Train 100.00 ± 0.00\t\n",
      "Duration 43.0s\n",
      "\n",
      "Evaluating kernel spectrum_37:\n",
      "dataset: Validation 51.77 ± 0.02\t Train 100.00 ± 0.00\t C=1e+03\n",
      "dataset: Validation 71.83 ± 0.25\t Train 100.00 ± 0.00\t C=1e+03\n",
      "dataset: Validation 65.82 ± 0.19\t Train 100.00 ± 0.00\t C=1e+03\n",
      "total:   Validation 63.14 ± 0.15\t Train 100.00 ± 0.00\t\n",
      "Duration 43.0s\n",
      "\n",
      "Evaluating kernel spectrum_38:\n",
      "dataset: Validation 51.75 ± 0.12\t Train 100.00 ± 0.00\t C=1e+03\n",
      "dataset: Validation 71.73 ± 0.05\t Train 100.00 ± 0.00\t C=1e+00\n",
      "dataset: Validation 65.92 ± 0.21\t Train 100.00 ± 0.00\t C=1e+03\n",
      "total:   Validation 63.13 ± 0.13\t Train 100.00 ± 0.00\t\n",
      "Duration 42.7s\n",
      "\n",
      "Evaluating kernel spectrum_39:\n",
      "dataset: Validation 51.70 ± 0.28\t Train 100.00 ± 0.00\t C=1e+02\n",
      "dataset: Validation 71.67 ± 0.12\t Train 100.00 ± 0.00\t C=1e+01\n",
      "dataset: Validation 65.58 ± 0.22\t Train 100.00 ± 0.00\t C=1e+02\n",
      "total:   Validation 62.98 ± 0.21\t Train 100.00 ± 0.00\t\n",
      "Duration 42.5s\n",
      "\n",
      "Evaluating kernel mismatch_1_1:\n",
      "dataset: Validation 51.15 ± 0.00\t Train 51.15 ± 0.00\t C=1e-02\n",
      "dataset: Validation 46.70 ± 0.36\t Train 50.22 ± 0.02\t C=1e-02\n",
      "dataset: Validation 46.95 ± 0.64\t Train 50.17 ± 0.03\t C=1e-02\n",
      "total:   Validation 48.27 ± 0.33\t Train 50.51 ± 0.02\t\n",
      "Duration 34.2s\n",
      "\n",
      "Evaluating kernel mismatch_1_2:\n",
      "dataset: Validation 56.07 ± 0.31\t Train 58.28 ± 0.06\t C=1e+03\n",
      "dataset: Validation 59.58 ± 0.34\t Train 61.06 ± 0.03\t C=1e+02\n",
      "dataset: Validation 60.92 ± 0.14\t Train 61.56 ± 0.04\t C=1e+01\n",
      "total:   Validation 58.86 ± 0.26\t Train 60.30 ± 0.04\t\n",
      "Duration 42.5s\n",
      "\n",
      "Evaluating kernel mismatch_1_3:\n",
      "dataset: Validation 59.35 ± 0.20\t Train 63.73 ± 0.07\t C=1e+02\n",
      "dataset: Validation 63.27 ± 0.34\t Train 66.42 ± 0.08\t C=1e+02\n",
      "dataset: Validation 60.82 ± 0.17\t Train 62.65 ± 0.03\t C=1e+01\n",
      "total:   Validation 61.14 ± 0.24\t Train 64.26 ± 0.06\t\n",
      "Duration 45.7s\n",
      "\n",
      "Evaluating kernel mismatch_1_4:\n",
      "dataset: Validation 61.13 ± 0.08\t Train 67.71 ± 0.04\t C=1e+01\n",
      "dataset: Validation 66.22 ± 0.47\t Train 74.67 ± 0.08\t C=1e+02\n",
      "dataset: Validation 61.75 ± 0.53\t Train 68.99 ± 0.06\t C=1e+01\n",
      "total:   Validation 63.03 ± 0.36\t Train 70.46 ± 0.06\t\n",
      "Duration 80.8s\n",
      "\n",
      "Evaluating kernel mismatch_1_5:\n",
      "dataset: Validation 60.40 ± 0.29\t Train 69.82 ± 0.05\t C=1e+00\n",
      "dataset: Validation 68.35 ± 0.07\t Train 75.55 ± 0.04\t C=1e+00\n",
      "dataset: Validation 63.52 ± 0.10\t Train 78.62 ± 0.08\t C=1e+01\n",
      "total:   Validation 64.09 ± 0.16\t Train 74.67 ± 0.05\t\n",
      "Duration 169.7s\n",
      "\n",
      "Evaluating kernel mismatch_1_6:\n",
      "dataset: Validation 62.80 ± 0.53\t Train 79.69 ± 0.08\t C=1e+00\n",
      "dataset: Validation 71.92 ± 0.10\t Train 96.97 ± 0.01\t C=1e+01\n",
      "dataset: Validation 63.83 ± 0.15\t Train 79.84 ± 0.00\t C=1e+00\n",
      "total:   Validation 66.18 ± 0.26\t Train 85.50 ± 0.03\t\n",
      "Duration 49.9s\n",
      "\n",
      "Evaluating kernel mismatch_1_7:\n",
      "dataset: Validation 63.00 ± 0.46\t Train 89.07 ± 0.05\t C=1e+00\n",
      "dataset: Validation 73.62 ± 0.16\t Train 92.99 ± 0.04\t C=1e+00\n",
      "dataset: Validation 64.60 ± 0.23\t Train 89.85 ± 0.03\t C=1e+00\n",
      "total:   Validation 67.07 ± 0.29\t Train 90.63 ± 0.04\t\n",
      "Duration 40.4s\n",
      "\n",
      "Evaluating kernel mismatch_1_8:\n",
      "dataset: Validation 63.43 ± 0.06\t Train 95.60 ± 0.02\t C=1e+00\n",
      "dataset: Validation 76.32 ± 0.34\t Train 98.25 ± 0.01\t C=1e+00\n",
      "dataset: Validation 66.33 ± 0.17\t Train 96.17 ± 0.02\t C=1e+00\n",
      "total:   Validation 68.69 ± 0.19\t Train 96.67 ± 0.02\t\n",
      "Duration 40.0s\n",
      "\n",
      "Evaluating kernel mismatch_1_9:\n",
      "dataset: Validation 62.83 ± 0.24\t Train 97.70 ± 0.00\t C=1e+00\n",
      "dataset: Validation 77.58 ± 0.15\t Train 99.83 ± 0.00\t C=1e+00\n",
      "dataset: Validation 67.45 ± 0.18\t Train 98.55 ± 0.02\t C=1e+00\n",
      "total:   Validation 69.29 ± 0.19\t Train 98.70 ± 0.01\t\n",
      "Duration 38.8s\n",
      "\n",
      "Evaluating kernel mismatch_1_10:\n",
      "dataset: Validation 61.28 ± 0.34\t Train 100.00 ± 0.00\t C=1e+02\n",
      "dataset: Validation 78.28 ± 0.33\t Train 100.00 ± 0.00\t C=1e+02\n",
      "dataset: Validation 68.43 ± 0.42\t Train 99.03 ± 0.01\t C=1e+00\n",
      "total:   Validation 69.33 ± 0.36\t Train 99.68 ± 0.00\t\n",
      "Duration 39.4s\n",
      "\n",
      "Evaluating kernel mismatch_1_11:\n",
      "dataset: Validation 61.95 ± 0.11\t Train 100.00 ± 0.00\t C=1e+01\n",
      "dataset: Validation 77.83 ± 0.06\t Train 99.99 ± 0.00\t C=1e+00\n",
      "dataset: Validation 69.45 ± 0.25\t Train 99.27 ± 0.01\t C=1e+00\n",
      "total:   Validation 69.74 ± 0.14\t Train 99.75 ± 0.00\t\n",
      "Duration 39.2s\n",
      "\n",
      "Evaluating kernel mismatch_1_12:\n",
      "dataset: Validation 59.77 ± 0.53\t Train 100.00 ± 0.00\t C=1e+02\n",
      "dataset: Validation 76.87 ± 0.12\t Train 100.00 ± 0.00\t C=1e+02\n",
      "dataset: Validation 70.22 ± 0.25\t Train 99.51 ± 0.00\t C=1e+00\n",
      "total:   Validation 68.95 ± 0.30\t Train 99.84 ± 0.00\t\n",
      "Duration 39.9s\n",
      "\n",
      "Evaluating kernel edit_gaussian:\n",
      "dataset: Validation 57.72 ± 0.35\t Train 96.28 ± 0.01\t C=1e+00\n",
      "dataset: Validation 68.88 ± 0.49\t Train 100.00 ± 0.00\t C=1e+03\n",
      "dataset: Validation 63.93 ± 0.29\t Train 98.96 ± 0.00\t C=1e+00\n",
      "total:   Validation 63.51 ± 0.37\t Train 98.41 ± 0.01\t\n",
      "Duration 42.3s\n",
      "\n",
      "Total time: 2780.5s\n"
     ]
    }
   ],
   "source": [
    "separate_evaluation(kernels, model=sksvm.SVC, repeats=3, kernel='precomputed')"
   ]
  },
  {
   "cell_type": "markdown",
   "metadata": {},
   "source": [
    "## Weighting the kernels"
   ]
  },
  {
   "cell_type": "code",
   "execution_count": 479,
   "metadata": {},
   "outputs": [],
   "source": [
    "def weighted_kernel(kernels, file='separate_kernels', Ts=(1, 1, 1)):\n",
    "    Ts = np.array(Ts)\n",
    "    \n",
    "    with open(file, 'rb') as src:\n",
    "        results = pickle.load(src)\n",
    "    \n",
    "    weights = []\n",
    "    for kernel in kernels:\n",
    "        if not kernel in results:\n",
    "            raise ValueError(\"Kernel {} not found in results.\".format(kernel))\n",
    "        weights.append(np.array(results[kernel])[:, 0])\n",
    "    \n",
    "    weights = np.array(weights) * Ts[None, :]    \n",
    "    weights -= scipy.special.logsumexp(weights, axis=0)\n",
    "    weights = np.exp(weights)\n",
    "        \n",
    "    Ks = None\n",
    "    for i, kernel in enumerate(kernels):\n",
    "        kernel_f, kernel_params = kernels[kernel]\n",
    "        new_Ks = kernel_f(**kernel_params)\n",
    "        w = weights[i]\n",
    "        \n",
    "        if Ks is None:\n",
    "            Ks = transform_kernels([new_Ks], lambda j, K: w[j] * K)\n",
    "        else:\n",
    "            Ks = transform_kernels([Ks, new_Ks], lambda j, K1, K2: K1 + w[j] * K2)\n",
    "        \n",
    "    return Ks"
   ]
  },
  {
   "cell_type": "markdown",
   "metadata": {},
   "source": [
    "## Optimising the temperatures"
   ]
  },
  {
   "cell_type": "code",
   "execution_count": 470,
   "metadata": {},
   "outputs": [
    {
     "name": "stdout",
     "output_type": "stream",
     "text": [
      "dataset: Validation 64.18 ± 0.08\t Train 100.00 ± 0.00\t C=1e+01\n",
      "dataset: Validation 78.33 ± 0.10\t Train 100.00 ± 0.00\t C=1e+02\n",
      "dataset: Validation 67.35 ± 0.15\t Train 99.21 ± 0.01\t C=1e+00\n",
      "total:   Validation 69.95 ± 0.11\t Train 99.74 ± 0.00\t\n",
      "Wall time: 1min 7s\n"
     ]
    }
   ],
   "source": [
    "%time _ = svm_kernels(weighted_kernel(kernels, Ts=(0, 0, 0)), sksvm.SVC, repeats=4, kernel='precomputed')"
   ]
  },
  {
   "cell_type": "code",
   "execution_count": 471,
   "metadata": {},
   "outputs": [
    {
     "name": "stdout",
     "output_type": "stream",
     "text": [
      "dataset: Validation 63.95 ± 0.29\t Train 100.00 ± 0.00\t C=1e+03\n",
      "dataset: Validation 78.39 ± 0.20\t Train 100.00 ± 0.00\t C=1e+01\n",
      "dataset: Validation 66.80 ± 0.34\t Train 100.00 ± 0.00\t C=1e+02\n",
      "total:   Validation 69.71 ± 0.28\t Train 100.00 ± 0.00\t\n",
      "Wall time: 1min 4s\n"
     ]
    }
   ],
   "source": [
    "%time _ = svm_kernels(weighted_kernel(kernels, Ts=(1, 1, 1)), sksvm.SVC, repeats=4, kernel='precomputed')"
   ]
  },
  {
   "cell_type": "code",
   "execution_count": 472,
   "metadata": {},
   "outputs": [
    {
     "name": "stdout",
     "output_type": "stream",
     "text": [
      "dataset: Validation 64.20 ± 0.15\t Train 100.00 ± 0.00\t C=1e+03\n",
      "dataset: Validation 78.55 ± 0.24\t Train 100.00 ± 0.00\t C=1e+03\n",
      "dataset: Validation 67.38 ± 0.45\t Train 100.00 ± 0.00\t C=1e+01\n",
      "total:   Validation 70.04 ± 0.28\t Train 100.00 ± 0.00\t\n",
      "Wall time: 1min 7s\n"
     ]
    }
   ],
   "source": [
    "%time _ = svm_kernels(weighted_kernel(kernels, Ts=(1e1, 1e1, 1e1)), sksvm.SVC, repeats=4, kernel='precomputed')"
   ]
  },
  {
   "cell_type": "code",
   "execution_count": 473,
   "metadata": {},
   "outputs": [
    {
     "name": "stdout",
     "output_type": "stream",
     "text": [
      "dataset: Validation 64.05 ± 0.16\t Train 94.27 ± 0.04\t C=1e+00\n",
      "dataset: Validation 78.20 ± 0.19\t Train 99.99 ± 0.00\t C=1e+00\n",
      "dataset: Validation 70.16 ± 0.29\t Train 99.65 ± 0.00\t C=1e+00\n",
      "total:   Validation 70.80 ± 0.21\t Train 97.97 ± 0.01\t\n",
      "Wall time: 1min 7s\n"
     ]
    }
   ],
   "source": [
    "%time _ = svm_kernels(weighted_kernel(kernels, Ts=(1e2, 1e2, 1e2)), sksvm.SVC, repeats=4, kernel='precomputed')"
   ]
  },
  {
   "cell_type": "code",
   "execution_count": 480,
   "metadata": {},
   "outputs": [
    {
     "name": "stdout",
     "output_type": "stream",
     "text": [
      "dataset: Validation 63.32 ± 0.45\t Train 95.54 ± 0.02\t C=1e+00\n",
      "dataset: Validation 78.55 ± 0.30\t Train 99.99 ± 0.00\t C=1e+00\n",
      "dataset: Validation 69.91 ± 0.20\t Train 100.00 ± 0.00\t C=1e+02\n",
      "total:   Validation 70.60 ± 0.32\t Train 98.51 ± 0.01\t\n",
      "Wall time: 1min 7s\n"
     ]
    }
   ],
   "source": [
    "%time _ = svm_kernels(weighted_kernel(kernels, Ts=(1e3, 1e3, 1e3)), sksvm.SVC, repeats=4, kernel='precomputed')"
   ]
  },
  {
   "cell_type": "markdown",
   "metadata": {},
   "source": [
    "## Refining the temperatures: 1 repeat"
   ]
  },
  {
   "cell_type": "code",
   "execution_count": 483,
   "metadata": {},
   "outputs": [
    {
     "name": "stdout",
     "output_type": "stream",
     "text": [
      "T 0.0\n",
      "dataset: Validation 64.00 ± 0.00\t Train 100.00 ± 0.00\t C=1e+01\n",
      "dataset: Validation 78.70 ± 0.00\t Train 100.00 ± 0.00\t C=1e+02\n",
      "dataset: Validation 67.20 ± 0.00\t Train 100.00 ± 0.00\t C=1e+01\n",
      "total:   Validation 69.97 ± 0.00\t Train 100.00 ± 0.00\t\n",
      "Duration 28.56s\n",
      "T 10.0\n",
      "dataset: Validation 64.15 ± 0.00\t Train 100.00 ± 0.00\t C=1e+03\n",
      "dataset: Validation 78.20 ± 0.00\t Train 100.00 ± 0.00\t C=1e+02\n",
      "dataset: Validation 68.10 ± 0.00\t Train 99.46 ± 0.00\t C=1e+00\n",
      "total:   Validation 70.15 ± 0.00\t Train 99.82 ± 0.00\t\n",
      "Duration 29.80s\n",
      "T 20.0\n",
      "dataset: Validation 64.40 ± 0.00\t Train 97.48 ± 0.00\t C=1e+00\n",
      "dataset: Validation 78.80 ± 0.00\t Train 100.00 ± 0.00\t C=1e+02\n",
      "dataset: Validation 67.85 ± 0.00\t Train 100.00 ± 0.00\t C=1e+03\n",
      "total:   Validation 70.35 ± 0.00\t Train 99.16 ± 0.00\t\n",
      "Duration 29.28s\n",
      "T 30.0\n",
      "dataset: Validation 63.05 ± 0.00\t Train 100.00 ± 0.00\t C=1e+03\n",
      "dataset: Validation 79.00 ± 0.00\t Train 100.00 ± 0.00\t C=1e+02\n",
      "dataset: Validation 68.45 ± 0.00\t Train 100.00 ± 0.00\t C=1e+01\n",
      "total:   Validation 70.17 ± 0.00\t Train 100.00 ± 0.00\t\n",
      "Duration 30.28s\n",
      "T 40.0\n",
      "dataset: Validation 64.25 ± 0.00\t Train 95.83 ± 0.00\t C=1e+00\n",
      "dataset: Validation 78.55 ± 0.00\t Train 100.00 ± 0.00\t C=1e+00\n",
      "dataset: Validation 69.50 ± 0.00\t Train 99.66 ± 0.00\t C=1e+00\n",
      "total:   Validation 70.77 ± 0.00\t Train 98.50 ± 0.00\t\n",
      "Duration 29.78s\n",
      "T 50.0\n",
      "dataset: Validation 64.20 ± 0.00\t Train 95.21 ± 0.00\t C=1e+00\n",
      "dataset: Validation 78.30 ± 0.00\t Train 100.00 ± 0.00\t C=1e+01\n",
      "dataset: Validation 70.05 ± 0.00\t Train 99.66 ± 0.00\t C=1e+00\n",
      "total:   Validation 70.85 ± 0.00\t Train 98.29 ± 0.00\t\n",
      "Duration 30.18s\n",
      "T 60.0\n",
      "dataset: Validation 63.40 ± 0.00\t Train 94.78 ± 0.00\t C=1e+00\n",
      "dataset: Validation 78.70 ± 0.00\t Train 100.00 ± 0.00\t C=1e+02\n",
      "dataset: Validation 70.45 ± 0.00\t Train 99.66 ± 0.00\t C=1e+00\n",
      "total:   Validation 70.85 ± 0.00\t Train 98.15 ± 0.00\t\n",
      "Duration 29.78s\n",
      "T 70.0\n",
      "dataset: Validation 64.00 ± 0.00\t Train 94.57 ± 0.00\t C=1e+00\n",
      "dataset: Validation 79.00 ± 0.00\t Train 100.00 ± 0.00\t C=1e+01\n",
      "dataset: Validation 70.45 ± 0.00\t Train 99.66 ± 0.00\t C=1e+00\n",
      "total:   Validation 71.15 ± 0.00\t Train 98.08 ± 0.00\t\n",
      "Duration 30.08s\n",
      "T 80.0\n",
      "dataset: Validation 64.40 ± 0.00\t Train 94.36 ± 0.00\t C=1e+00\n",
      "dataset: Validation 78.35 ± 0.00\t Train 100.00 ± 0.00\t C=1e+03\n",
      "dataset: Validation 70.20 ± 0.00\t Train 100.00 ± 0.00\t C=1e+03\n",
      "total:   Validation 70.98 ± 0.00\t Train 98.12 ± 0.00\t\n",
      "Duration 29.94s\n",
      "T 90.0\n",
      "dataset: Validation 63.90 ± 0.00\t Train 94.32 ± 0.00\t C=1e+00\n",
      "dataset: Validation 79.30 ± 0.00\t Train 100.00 ± 0.00\t C=1e+03\n",
      "dataset: Validation 70.15 ± 0.00\t Train 100.00 ± 0.00\t C=1e+03\n",
      "total:   Validation 71.12 ± 0.00\t Train 98.11 ± 0.00\t\n",
      "Duration 30.79s\n",
      "T 100.0\n",
      "dataset: Validation 64.25 ± 0.00\t Train 94.29 ± 0.00\t C=1e+00\n",
      "dataset: Validation 77.95 ± 0.00\t Train 99.99 ± 0.00\t C=1e+00\n",
      "dataset: Validation 70.10 ± 0.00\t Train 100.00 ± 0.00\t C=1e+02\n",
      "total:   Validation 70.77 ± 0.00\t Train 98.10 ± 0.00\t\n",
      "Duration 29.80s\n",
      "T 110.0\n",
      "dataset: Validation 63.85 ± 0.00\t Train 94.22 ± 0.00\t C=1e+00\n",
      "dataset: Validation 77.90 ± 0.00\t Train 100.00 ± 0.00\t C=1e+02\n",
      "dataset: Validation 70.40 ± 0.00\t Train 100.00 ± 0.00\t C=1e+02\n",
      "total:   Validation 70.72 ± 0.00\t Train 98.07 ± 0.00\t\n",
      "Duration 30.03s\n",
      "T 120.0\n",
      "dataset: Validation 63.80 ± 0.00\t Train 94.27 ± 0.00\t C=1e+00\n",
      "dataset: Validation 78.65 ± 0.00\t Train 100.00 ± 0.00\t C=1e+02\n",
      "dataset: Validation 70.35 ± 0.00\t Train 100.00 ± 0.00\t C=1e+02\n",
      "total:   Validation 70.93 ± 0.00\t Train 98.09 ± 0.00\t\n",
      "Duration 30.32s\n",
      "T 130.0\n",
      "dataset: Validation 64.10 ± 0.00\t Train 94.29 ± 0.00\t C=1e+00\n",
      "dataset: Validation 78.75 ± 0.00\t Train 100.00 ± 0.00\t C=1e+01\n",
      "dataset: Validation 70.00 ± 0.00\t Train 99.65 ± 0.00\t C=1e+00\n",
      "total:   Validation 70.95 ± 0.00\t Train 97.98 ± 0.00\t\n",
      "Duration 30.27s\n",
      "T 140.0\n",
      "dataset: Validation 64.15 ± 0.00\t Train 94.29 ± 0.00\t C=1e+00\n",
      "dataset: Validation 78.50 ± 0.00\t Train 100.00 ± 0.00\t C=1e+02\n",
      "dataset: Validation 69.90 ± 0.00\t Train 100.00 ± 0.00\t C=1e+02\n",
      "total:   Validation 70.85 ± 0.00\t Train 98.10 ± 0.00\t\n",
      "Duration 30.19s\n",
      "T 150.0\n",
      "dataset: Validation 63.75 ± 0.00\t Train 94.29 ± 0.00\t C=1e+00\n",
      "dataset: Validation 78.55 ± 0.00\t Train 100.00 ± 0.00\t C=1e+03\n",
      "dataset: Validation 69.85 ± 0.00\t Train 100.00 ± 0.00\t C=1e+01\n",
      "total:   Validation 70.72 ± 0.00\t Train 98.10 ± 0.00\t\n",
      "Duration 29.36s\n",
      "T 160.0\n",
      "dataset: Validation 63.15 ± 0.00\t Train 94.33 ± 0.00\t C=1e+00\n",
      "dataset: Validation 78.85 ± 0.00\t Train 100.00 ± 0.00\t C=1e+01\n",
      "dataset: Validation 70.20 ± 0.00\t Train 100.00 ± 0.00\t C=1e+01\n",
      "total:   Validation 70.73 ± 0.00\t Train 98.11 ± 0.00\t\n",
      "Duration 30.78s\n",
      "T 170.0\n",
      "dataset: Validation 64.95 ± 0.00\t Train 94.36 ± 0.00\t C=1e+00\n",
      "dataset: Validation 78.35 ± 0.00\t Train 100.00 ± 0.00\t C=1e+02\n",
      "dataset: Validation 70.35 ± 0.00\t Train 100.00 ± 0.00\t C=1e+03\n",
      "total:   Validation 71.22 ± 0.00\t Train 98.12 ± 0.00\t\n",
      "Duration 29.82s\n",
      "T 180.0\n",
      "dataset: Validation 64.15 ± 0.00\t Train 94.39 ± 0.00\t C=1e+00\n",
      "dataset: Validation 78.80 ± 0.00\t Train 100.00 ± 0.00\t C=1e+02\n",
      "dataset: Validation 69.95 ± 0.00\t Train 100.00 ± 0.00\t C=1e+02\n",
      "total:   Validation 70.97 ± 0.00\t Train 98.13 ± 0.00\t\n",
      "Duration 30.25s\n",
      "T 190.0\n",
      "dataset: Validation 63.60 ± 0.00\t Train 94.37 ± 0.00\t C=1e+00\n",
      "dataset: Validation 78.00 ± 0.00\t Train 99.99 ± 0.00\t C=1e+00\n",
      "dataset: Validation 70.00 ± 0.00\t Train 100.00 ± 0.00\t C=1e+01\n",
      "total:   Validation 70.53 ± 0.00\t Train 98.12 ± 0.00\t\n",
      "Duration 30.08s\n",
      "T 200.0\n",
      "dataset: Validation 64.00 ± 0.00\t Train 94.45 ± 0.00\t C=1e+00\n",
      "dataset: Validation 79.20 ± 0.00\t Train 100.00 ± 0.00\t C=1e+03\n",
      "dataset: Validation 69.60 ± 0.00\t Train 100.00 ± 0.00\t C=1e+01\n",
      "total:   Validation 70.93 ± 0.00\t Train 98.15 ± 0.00\t\n",
      "Duration 30.13s\n"
     ]
    }
   ],
   "source": [
    "temp_results = []\n",
    "Ts = np.linspace(0, 200, 21)\n",
    "for T in Ts:\n",
    "    print(\"T\", T)\n",
    "    t = time.time()\n",
    "    temp_results.append(svm_kernels(weighted_kernel(kernels, Ts=(T, T, T)), sksvm.SVC, repeats=1, kernel='precomputed'))\n",
    "    print(\"Duration {:.2f}s\".format(time.time() - t))"
   ]
  },
  {
   "cell_type": "code",
   "execution_count": 484,
   "metadata": {},
   "outputs": [
    {
     "name": "stdout",
     "output_type": "stream",
     "text": [
      "(21, 3, 4)\n"
     ]
    }
   ],
   "source": [
    "temp_results = np.array(temp_results)\n",
    "print(temp_results.shape)\n",
    "best_Ts = np.argmin(temp_results[:, :, 0])\n",
    "safe_Ts = np.argmin(temp_results[:, :, 0] - temp_results[:, :, 1])"
   ]
  },
  {
   "cell_type": "code",
   "execution_count": 485,
   "metadata": {},
   "outputs": [
    {
     "data": {
      "image/png": "[encoded data removed]",
      "text/plain": [
       "<Figure size 432x288 with 1 Axes>"
      ]
     },
     "metadata": {},
     "output_type": "display_data"
    },
    {
     "data": {
      "image/png": "[encoded data removed]",
      "text/plain": [
       "<Figure size 432x288 with 1 Axes>"
      ]
     },
     "metadata": {},
     "output_type": "display_data"
    },
    {
     "data": {
      "image/png": "[encoded data removed]",
      "text/plain": [
       "<Figure size 432x288 with 1 Axes>"
      ]
     },
     "metadata": {},
     "output_type": "display_data"
    }
   ],
   "source": [
    "for i in range(3):\n",
    "    plt.plot(Ts, temp_results[:, i, 0])\n",
    "    plt.title('Data set {}'.format(i))\n",
    "    plt.show()"
   ]
  },
  {
   "cell_type": "code",
   "execution_count": 487,
   "metadata": {},
   "outputs": [
    {
     "name": "stdout",
     "output_type": "stream",
     "text": [
      "T 0.0\n",
      "dataset: Validation 63.92 ± 0.44\t Train 100.00 ± 0.00\t C=1e+02\n",
      "dataset: Validation 78.11 ± 0.25\t Train 100.00 ± 0.00\t C=1e+01\n",
      "dataset: Validation 67.21 ± 0.28\t Train 99.21 ± 0.01\t C=1e+00\n",
      "total:   Validation 69.75 ± 0.33\t Train 99.74 ± 0.00\t\n",
      "Duration 69.12s\n",
      "T 40.0\n",
      "dataset: Validation 64.51 ± 0.36\t Train 95.76 ± 0.01\t C=1e+00\n",
      "dataset: Validation 78.74 ± 0.18\t Train 100.00 ± 0.00\t C=1e+02\n",
      "dataset: Validation 69.15 ± 0.21\t Train 100.00 ± 0.00\t C=1e+01\n",
      "total:   Validation 70.80 ± 0.25\t Train 98.59 ± 0.00\t\n",
      "Duration 72.07s\n",
      "T 80.0\n",
      "dataset: Validation 64.19 ± 0.26\t Train 94.43 ± 0.03\t C=1e+00\n",
      "dataset: Validation 78.83 ± 0.34\t Train 100.00 ± 0.00\t C=1e+02\n",
      "dataset: Validation 70.21 ± 0.39\t Train 100.00 ± 0.00\t C=1e+01\n",
      "total:   Validation 71.08 ± 0.33\t Train 98.14 ± 0.01\t\n",
      "Duration 68.71s\n",
      "T 120.0\n",
      "dataset: Validation 63.92 ± 0.11\t Train 94.25 ± 0.05\t C=1e+00\n",
      "dataset: Validation 79.00 ± 0.29\t Train 100.00 ± 0.00\t C=1e+03\n",
      "dataset: Validation 70.25 ± 0.08\t Train 100.00 ± 0.00\t C=1e+03\n",
      "total:   Validation 71.06 ± 0.16\t Train 98.08 ± 0.02\t\n",
      "Duration 68.48s\n",
      "T 160.0\n",
      "dataset: Validation 63.81 ± 0.55\t Train 94.31 ± 0.04\t C=1e+00\n",
      "dataset: Validation 78.56 ± 0.47\t Train 100.00 ± 0.00\t C=1e+01\n",
      "dataset: Validation 70.21 ± 0.16\t Train 99.65 ± 0.00\t C=1e+00\n",
      "total:   Validation 70.86 ± 0.40\t Train 97.99 ± 0.01\t\n",
      "Duration 68.80s\n",
      "T 200.0\n",
      "dataset: Validation 63.79 ± 0.47\t Train 94.43 ± 0.04\t C=1e+00\n",
      "dataset: Validation 78.54 ± 0.32\t Train 100.00 ± 0.00\t C=1e+01\n",
      "dataset: Validation 70.15 ± 0.14\t Train 100.00 ± 0.00\t C=1e+03\n",
      "total:   Validation 70.82 ± 0.31\t Train 98.14 ± 0.01\t\n",
      "Duration 67.92s\n"
     ]
    }
   ],
   "source": [
    "temp_results_2 = []\n",
    "Ts_2 = np.linspace(0, 200, 6)\n",
    "for T in Ts_2:\n",
    "    print(\"T\", T)\n",
    "    t = time.time()\n",
    "    temp_results_2.append(svm_kernels(weighted_kernel(kernels, Ts=(T, T, T)), sksvm.SVC, repeats=4, kernel='precomputed'))\n",
    "    print(\"Duration {:.2f}s\".format(time.time() - t))"
   ]
  },
  {
   "cell_type": "code",
   "execution_count": 490,
   "metadata": {},
   "outputs": [
    {
     "data": {
      "image/png": "[encoded data removed]",
      "text/plain": [
       "<Figure size 432x288 with 1 Axes>"
      ]
     },
     "metadata": {},
     "output_type": "display_data"
    },
    {
     "data": {
      "image/png": "[encoded data removed]",
      "text/plain": [
       "<Figure size 432x288 with 1 Axes>"
      ]
     },
     "metadata": {},
     "output_type": "display_data"
    },
    {
     "data": {
      "image/png": "[encoded data removed]",
      "text/plain": [
       "<Figure size 432x288 with 1 Axes>"
      ]
     },
     "metadata": {},
     "output_type": "display_data"
    }
   ],
   "source": [
    "temp_results_2 = np.array(temp_results_2)\n",
    "for i in range(3):\n",
    "    plt.errorbar(Ts_2, temp_results_2[:, i, 0], yerr=temp_results_2[:, i, 1])\n",
    "    plt.title('Data set {}'.format(i))\n",
    "    plt.show()"
   ]
  },
  {
   "cell_type": "code",
   "execution_count": 496,
   "metadata": {},
   "outputs": [],
   "source": [
    "best_Ts_2 = Ts_2[np.argmax(temp_results_2[:, :, 0], axis=0)]\n",
    "safe_Ts_2 = Ts_2[np.argmax(temp_results_2[:, :, 0] - 2*temp_results_2[:, :, 1], axis=0)]"
   ]
  },
  {
   "cell_type": "code",
   "execution_count": 497,
   "metadata": {},
   "outputs": [
    {
     "name": "stdout",
     "output_type": "stream",
     "text": [
      "[ 40. 120. 120.]\n",
      "[ 40. 120. 120.]\n"
     ]
    }
   ],
   "source": [
    "print(best_Ts_2)\n",
    "print(safe_Ts_2)"
   ]
  },
  {
   "cell_type": "markdown",
   "metadata": {},
   "source": [
    "## Final parameters"
   ]
  },
  {
   "cell_type": "code",
   "execution_count": 499,
   "metadata": {},
   "outputs": [
    {
     "name": "stdout",
     "output_type": "stream",
     "text": [
      "dataset: Validation 64.26 ± 0.19\t Train 95.74 ± 0.04\t C=1e+00\n",
      "dataset: Validation 78.49 ± 0.28\t Train 100.00 ± 0.00\t C=1e+02\n",
      "dataset: Validation 70.24 ± 0.16\t Train 99.65 ± 0.00\t C=1e+00\n",
      "total:   Validation 71.00 ± 0.21\t Train 98.46 ± 0.01\t\n"
     ]
    }
   ],
   "source": [
    "Ts = (40, 120, 120)\n",
    "_ = svm_kernels(weighted_kernel(kernels, Ts=Ts), sksvm.SVC, repeats=4,\n",
    "                kernel='precomputed',\n",
    "                prediction_file='weighted_kernels_{}_{}_{}_sklearn'.format(*Ts))"
   ]
  },
  {
   "cell_type": "code",
   "execution_count": 501,
   "metadata": {},
   "outputs": [
    {
     "name": "stdout",
     "output_type": "stream",
     "text": [
      "dataset: Validation 64.18 ± 0.48\t Train 95.77 ± 0.01\t C=1e+00\n",
      "dataset: Validation 78.71 ± 0.12\t Train 100.00 ± 0.00\t C=1e+03\n",
      "dataset: Validation 69.86 ± 0.15\t Train 99.65 ± 0.00\t C=1e+00\n",
      "total:   Validation 70.92 ± 0.25\t Train 98.47 ± 0.00\t\n"
     ]
    }
   ],
   "source": [
    "Ts = (40, 120, 120)\n",
    "_ = svm_kernels(weighted_kernel(kernels, Ts=Ts), svm.SVCCoordinate, repeats=4,\n",
    "                kernel='precomputed', loss='hinge', intercept=1,\n",
    "                prediction_file='weighted_kernels_{}_{}_{}'.format(*Ts))"
   ]
  }
 ],
 "metadata": {
  "kernelspec": {
   "display_name": "Python 3",
   "language": "python",
   "name": "python3"
  },
  "language_info": {
   "codemirror_mode": {
    "name": "ipython",
    "version": 3
   },
   "file_extension": ".py",
   "mimetype": "text/x-python",
   "name": "python",
   "nbconvert_exporter": "python",
   "pygments_lexer": "ipython3",
   "version": "3.6.4"
  }
 },
 "nbformat": 4,
 "nbformat_minor": 2
}
